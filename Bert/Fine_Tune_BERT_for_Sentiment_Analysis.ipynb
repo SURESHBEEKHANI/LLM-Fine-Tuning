{
  "nbformat": 4,
  "nbformat_minor": 0,
  "metadata": {
    "colab": {
      "provenance": [],
      "gpuType": "T4",
      "include_colab_link": true
    },
    "kernelspec": {
      "name": "python3",
      "display_name": "Python 3"
    },
    "language_info": {
      "name": "python"
    },
    "accelerator": "GPU"
  },
  "cells": [
    {
      "cell_type": "markdown",
      "metadata": {
        "id": "view-in-github",
        "colab_type": "text"
      },
      "source": [
        "<a href=\"https://colab.research.google.com/github/SURESHBEEKHANI/Advanced-LLM-Fine-Tuning/blob/main/Fine_Tune_BERT_for_Sentiment_Analysis.ipynb\" target=\"_parent\"><img src=\"https://colab.research.google.com/assets/colab-badge.svg\" alt=\"Open In Colab\"/></a>"
      ]
    },
    {
      "cell_type": "markdown",
      "metadata": {
        "id": "NPXtEgPQ74qY"
      },
      "source": [
        "## Fine-Tuning BERT for Twitter Sentiment Classification with Hugging Face Transformers and TensorFlow\n",
        "\n",
        "This project demonstrates how to fine-tune the BERT model for sentiment classification on Twitter data using Hugging Face's Transformers library and TensorFlow. The goal is to leverage the pre-trained BERT model and adapt it for classifying tweets into positive or negative sentiments, showcasing the power of transfer learning and state-of-the-art NLP techniques.\n",
        "\n",
        "### 🧑‍💻 Project Overview:\n",
        "\n",
        "- **Dataset**: A Twitter sentiment dataset containing labeled tweets for sentiment analysis.\n",
        "- **Model**: Fine-tuning BERT, a powerful pre-trained transformer model, for sentiment classification.\n",
        "- **Frameworks**: Utilized Hugging Face Transformers and TensorFlow for model training and evaluation.\n",
        "\n",
        "### 🛠️ Tools & Technologies:\n",
        "\n",
        "- **Hugging Face Transformers**: Pre-trained models and tokenizers for easy integration.\n",
        "- **TensorFlow**: Framework used for training and evaluating the fine-tuned model.\n",
        "- **BERT**: A transformer-based model that has shown state-of-the-art performance on a variety of NLP tasks.\n",
        "\n",
        "### 🔧 Key Steps:\n",
        "\n",
        "1. **Data Preprocessing**: Cleaned and tokenized the dataset to prepare for model input.\n",
        "2. **Model Training**: Fine-tuned BERT on the Twitter sentiment data using TensorFlow.\n",
        "3. **Evaluation**: Evaluated the model’s performance on a held-out test set to assess accuracy and effectiveness.\n",
        "\n",
        "### 📊 Results:\n",
        "\n",
        "- The fine-tuned BERT model achieved strong performance in sentiment classification.\n",
        "- Compared the model’s performance with a baseline to demonstrate improvement.\n",
        "\n",
        "### 🔗 Repository:\n",
        "\n",
        "The complete code, along with the dataset and model weights, is available in the repository for further exploration:\n",
        "\n",
        "- **GitHub Repository**: [GitHub Link]\n",
        "- **Hugging Face Model Hub**: [Hugging Face Link]\n",
        "\n",
        "---\n",
        "\n",
        "### 💬 Conclusion:\n",
        "\n",
        "By fine-tuning BERT on Twitter data, this project illustrates the power of pre-trained language models for sentiment analysis tasks, and showcases how TensorFlow and Hugging Face can be used to fine-tune complex models for specialized tasks with relatively minimal data."
      ]
    },
    {
      "cell_type": "code",
      "metadata": {
        "id": "9wAuQ09A7z4R"
      },
      "source": [
        "# Install the 'transformers' library for accessing pre-trained models from Hugging Face\n",
        "# Install the 'kaggle' library for interacting with Kaggle datasets and competitions\n",
        "# The '-q' flag ensures the installation process is quieter (less verbose output)\n",
        "!pip install -q transformers kaggle"
      ],
      "execution_count": null,
      "outputs": []
    },
    {
      "cell_type": "code",
      "metadata": {
        "colab": {
          "base_uri": "https://localhost:8080/"
        },
        "id": "UZT4DM318SDw",
        "outputId": "d2d97fcb-12e8-4387-d858-b3b75293f678"
      },
      "source": [
        "# check for the GPU\n",
        "!nvidia-smi"
      ],
      "execution_count": null,
      "outputs": [
        {
          "output_type": "stream",
          "name": "stdout",
          "text": [
            "Sun Jan 12 13:25:45 2025       \n",
            "+---------------------------------------------------------------------------------------+\n",
            "| NVIDIA-SMI 535.104.05             Driver Version: 535.104.05   CUDA Version: 12.2     |\n",
            "|-----------------------------------------+----------------------+----------------------+\n",
            "| GPU  Name                 Persistence-M | Bus-Id        Disp.A | Volatile Uncorr. ECC |\n",
            "| Fan  Temp   Perf          Pwr:Usage/Cap |         Memory-Usage | GPU-Util  Compute M. |\n",
            "|                                         |                      |               MIG M. |\n",
            "|=========================================+======================+======================|\n",
            "|   0  Tesla T4                       Off | 00000000:00:04.0 Off |                    0 |\n",
            "| N/A   76C    P0              34W /  70W |   2165MiB / 15360MiB |      0%      Default |\n",
            "|                                         |                      |                  N/A |\n",
            "+-----------------------------------------+----------------------+----------------------+\n",
            "                                                                                         \n",
            "+---------------------------------------------------------------------------------------+\n",
            "| Processes:                                                                            |\n",
            "|  GPU   GI   CI        PID   Type   Process name                            GPU Memory |\n",
            "|        ID   ID                                                             Usage      |\n",
            "|=======================================================================================|\n",
            "+---------------------------------------------------------------------------------------+\n"
          ]
        }
      ]
    },
    {
      "cell_type": "markdown",
      "metadata": {
        "id": "jgIFAhJ_nrwt"
      },
      "source": [
        "### **Download the Data From Kaggle**"
      ]
    },
    {
      "cell_type": "code",
      "metadata": {
        "id": "0RlglPqb8wfK",
        "colab": {
          "base_uri": "https://localhost:8080/",
          "height": 90
        },
        "outputId": "3560b9e7-ec31-42fe-91c2-aa8c128aa331"
      },
      "source": [
        "# Upload the Kaggle API key file ('kaggle.json') to authenticate with the Kaggle API.\n",
        "# This step is necessary to access Kaggle datasets via the Kaggle API in Google Colab.\n",
        "# The user will be prompted to upload the 'kaggle.json' file containing the Kaggle API key.\n",
        "from google.colab import files\n",
        "files.upload()"
      ],
      "execution_count": null,
      "outputs": [
        {
          "output_type": "display_data",
          "data": {
            "text/plain": [
              "<IPython.core.display.HTML object>"
            ],
            "text/html": [
              "\n",
              "     <input type=\"file\" id=\"files-e818225f-2669-4cd5-82d4-73cf7166b47d\" name=\"files[]\" multiple disabled\n",
              "        style=\"border:none\" />\n",
              "     <output id=\"result-e818225f-2669-4cd5-82d4-73cf7166b47d\">\n",
              "      Upload widget is only available when the cell has been executed in the\n",
              "      current browser session. Please rerun this cell to enable.\n",
              "      </output>\n",
              "      <script>// Copyright 2017 Google LLC\n",
              "//\n",
              "// Licensed under the Apache License, Version 2.0 (the \"License\");\n",
              "// you may not use this file except in compliance with the License.\n",
              "// You may obtain a copy of the License at\n",
              "//\n",
              "//      http://www.apache.org/licenses/LICENSE-2.0\n",
              "//\n",
              "// Unless required by applicable law or agreed to in writing, software\n",
              "// distributed under the License is distributed on an \"AS IS\" BASIS,\n",
              "// WITHOUT WARRANTIES OR CONDITIONS OF ANY KIND, either express or implied.\n",
              "// See the License for the specific language governing permissions and\n",
              "// limitations under the License.\n",
              "\n",
              "/**\n",
              " * @fileoverview Helpers for google.colab Python module.\n",
              " */\n",
              "(function(scope) {\n",
              "function span(text, styleAttributes = {}) {\n",
              "  const element = document.createElement('span');\n",
              "  element.textContent = text;\n",
              "  for (const key of Object.keys(styleAttributes)) {\n",
              "    element.style[key] = styleAttributes[key];\n",
              "  }\n",
              "  return element;\n",
              "}\n",
              "\n",
              "// Max number of bytes which will be uploaded at a time.\n",
              "const MAX_PAYLOAD_SIZE = 100 * 1024;\n",
              "\n",
              "function _uploadFiles(inputId, outputId) {\n",
              "  const steps = uploadFilesStep(inputId, outputId);\n",
              "  const outputElement = document.getElementById(outputId);\n",
              "  // Cache steps on the outputElement to make it available for the next call\n",
              "  // to uploadFilesContinue from Python.\n",
              "  outputElement.steps = steps;\n",
              "\n",
              "  return _uploadFilesContinue(outputId);\n",
              "}\n",
              "\n",
              "// This is roughly an async generator (not supported in the browser yet),\n",
              "// where there are multiple asynchronous steps and the Python side is going\n",
              "// to poll for completion of each step.\n",
              "// This uses a Promise to block the python side on completion of each step,\n",
              "// then passes the result of the previous step as the input to the next step.\n",
              "function _uploadFilesContinue(outputId) {\n",
              "  const outputElement = document.getElementById(outputId);\n",
              "  const steps = outputElement.steps;\n",
              "\n",
              "  const next = steps.next(outputElement.lastPromiseValue);\n",
              "  return Promise.resolve(next.value.promise).then((value) => {\n",
              "    // Cache the last promise value to make it available to the next\n",
              "    // step of the generator.\n",
              "    outputElement.lastPromiseValue = value;\n",
              "    return next.value.response;\n",
              "  });\n",
              "}\n",
              "\n",
              "/**\n",
              " * Generator function which is called between each async step of the upload\n",
              " * process.\n",
              " * @param {string} inputId Element ID of the input file picker element.\n",
              " * @param {string} outputId Element ID of the output display.\n",
              " * @return {!Iterable<!Object>} Iterable of next steps.\n",
              " */\n",
              "function* uploadFilesStep(inputId, outputId) {\n",
              "  const inputElement = document.getElementById(inputId);\n",
              "  inputElement.disabled = false;\n",
              "\n",
              "  const outputElement = document.getElementById(outputId);\n",
              "  outputElement.innerHTML = '';\n",
              "\n",
              "  const pickedPromise = new Promise((resolve) => {\n",
              "    inputElement.addEventListener('change', (e) => {\n",
              "      resolve(e.target.files);\n",
              "    });\n",
              "  });\n",
              "\n",
              "  const cancel = document.createElement('button');\n",
              "  inputElement.parentElement.appendChild(cancel);\n",
              "  cancel.textContent = 'Cancel upload';\n",
              "  const cancelPromise = new Promise((resolve) => {\n",
              "    cancel.onclick = () => {\n",
              "      resolve(null);\n",
              "    };\n",
              "  });\n",
              "\n",
              "  // Wait for the user to pick the files.\n",
              "  const files = yield {\n",
              "    promise: Promise.race([pickedPromise, cancelPromise]),\n",
              "    response: {\n",
              "      action: 'starting',\n",
              "    }\n",
              "  };\n",
              "\n",
              "  cancel.remove();\n",
              "\n",
              "  // Disable the input element since further picks are not allowed.\n",
              "  inputElement.disabled = true;\n",
              "\n",
              "  if (!files) {\n",
              "    return {\n",
              "      response: {\n",
              "        action: 'complete',\n",
              "      }\n",
              "    };\n",
              "  }\n",
              "\n",
              "  for (const file of files) {\n",
              "    const li = document.createElement('li');\n",
              "    li.append(span(file.name, {fontWeight: 'bold'}));\n",
              "    li.append(span(\n",
              "        `(${file.type || 'n/a'}) - ${file.size} bytes, ` +\n",
              "        `last modified: ${\n",
              "            file.lastModifiedDate ? file.lastModifiedDate.toLocaleDateString() :\n",
              "                                    'n/a'} - `));\n",
              "    const percent = span('0% done');\n",
              "    li.appendChild(percent);\n",
              "\n",
              "    outputElement.appendChild(li);\n",
              "\n",
              "    const fileDataPromise = new Promise((resolve) => {\n",
              "      const reader = new FileReader();\n",
              "      reader.onload = (e) => {\n",
              "        resolve(e.target.result);\n",
              "      };\n",
              "      reader.readAsArrayBuffer(file);\n",
              "    });\n",
              "    // Wait for the data to be ready.\n",
              "    let fileData = yield {\n",
              "      promise: fileDataPromise,\n",
              "      response: {\n",
              "        action: 'continue',\n",
              "      }\n",
              "    };\n",
              "\n",
              "    // Use a chunked sending to avoid message size limits. See b/62115660.\n",
              "    let position = 0;\n",
              "    do {\n",
              "      const length = Math.min(fileData.byteLength - position, MAX_PAYLOAD_SIZE);\n",
              "      const chunk = new Uint8Array(fileData, position, length);\n",
              "      position += length;\n",
              "\n",
              "      const base64 = btoa(String.fromCharCode.apply(null, chunk));\n",
              "      yield {\n",
              "        response: {\n",
              "          action: 'append',\n",
              "          file: file.name,\n",
              "          data: base64,\n",
              "        },\n",
              "      };\n",
              "\n",
              "      let percentDone = fileData.byteLength === 0 ?\n",
              "          100 :\n",
              "          Math.round((position / fileData.byteLength) * 100);\n",
              "      percent.textContent = `${percentDone}% done`;\n",
              "\n",
              "    } while (position < fileData.byteLength);\n",
              "  }\n",
              "\n",
              "  // All done.\n",
              "  yield {\n",
              "    response: {\n",
              "      action: 'complete',\n",
              "    }\n",
              "  };\n",
              "}\n",
              "\n",
              "scope.google = scope.google || {};\n",
              "scope.google.colab = scope.google.colab || {};\n",
              "scope.google.colab._files = {\n",
              "  _uploadFiles,\n",
              "  _uploadFilesContinue,\n",
              "};\n",
              "})(self);\n",
              "</script> "
            ]
          },
          "metadata": {}
        },
        {
          "output_type": "stream",
          "name": "stdout",
          "text": [
            "Saving kaggle.json to kaggle.json\n"
          ]
        },
        {
          "output_type": "execute_result",
          "data": {
            "text/plain": [
              "{'kaggle.json': b'{\"username\":\"sureshbeekhani\",\"key\":\"db42fc3f469ae7b09e2e787a21215355\"}'}"
            ]
          },
          "metadata": {},
          "execution_count": 74
        }
      ]
    },
    {
      "cell_type": "code",
      "source": [
        "# Import necessary libraries\n",
        "import os\n",
        "import shutil\n",
        "\n",
        "# Create the .kaggle directory in the root folder if it doesn't already exist.\n",
        "# This is where the Kaggle API key file will be stored.\n",
        "os.makedirs('/root/.kaggle/', exist_ok=True)\n",
        "\n",
        "# Move the 'kaggle.json' file (which contains the Kaggle API key) to the .kaggle directory.\n",
        "# This allows the Kaggle API to access the key for authentication.\n",
        "shutil.move('kaggle.json', '/root/.kaggle/kaggle.json')\n",
        "\n",
        "# Set the file permissions to 600 (read and write permissions for the owner only),\n",
        "# ensuring that the Kaggle API key is kept secure.\n",
        "os.chmod('/root/.kaggle/kaggle.json', 600)"
      ],
      "metadata": {
        "id": "4LGR0YPeC4Nm"
      },
      "execution_count": null,
      "outputs": []
    },
    {
      "cell_type": "code",
      "source": [
        "# Download the dataset for the specified Kaggle competition using the Kaggle API.\n",
        "# The '-c' flag is followed by the competition name ('nlp-getting-started'),\n",
        "# which tells the Kaggle API to fetch the dataset associated with that competition.\n",
        "# This will download the competition files to the current working directory.\n",
        "!kaggle competitions download -c nlp-getting-started"
      ],
      "metadata": {
        "colab": {
          "base_uri": "https://localhost:8080/"
        },
        "id": "4nIsySsXDWN3",
        "outputId": "42df77ac-c1e6-4094-c33f-7e7b43aa44ca"
      },
      "execution_count": null,
      "outputs": [
        {
          "output_type": "stream",
          "name": "stdout",
          "text": [
            "nlp-getting-started.zip: Skipping, found more recently modified local copy (use --force to force download)\n"
          ]
        }
      ]
    },
    {
      "cell_type": "code",
      "source": [
        "# Import the zipfile library to handle ZIP file operations.\n",
        "import zipfile\n",
        "\n",
        "# Open the 'nlp-getting-started.zip' file in read mode.\n",
        "# 'zip_ref' is a reference to the opened ZIP file.\n",
        "# Extract all contents of the ZIP file into the 'data' directory.\n",
        "with zipfile.ZipFile('nlp-getting-started.zip', 'r') as zip_ref:\n",
        "    zip_ref.extractall('data')"
      ],
      "metadata": {
        "id": "DzJRBmnqE23S"
      },
      "execution_count": null,
      "outputs": []
    },
    {
      "cell_type": "markdown",
      "metadata": {
        "id": "BgGUrWiN-GNo"
      },
      "source": [
        "### Read and Explore Data\n",
        "\n",
        "After downloading and extracting the dataset, the next step is to load and explore the data to understand its structure and contents. This process helps in identifying important features, checking for any missing values, and preparing the data for further analysis or model training."
      ]
    },
    {
      "cell_type": "code",
      "metadata": {
        "id": "ZVYYGoLW-QoL"
      },
      "source": [
        "# Importing essential libraries for data science tasks\n",
        "import pandas as pd  # Pandas is used for data manipulation and analysis, especially with DataFrames\n",
        "import numpy as np   # NumPy provides support for numerical operations and arrays\n",
        "import matplotlib.pyplot as plt  # Matplotlib is used for data visualization (creating plots and charts)"
      ],
      "execution_count": null,
      "outputs": []
    },
    {
      "cell_type": "code",
      "metadata": {
        "id": "P1EufwG0-WEz",
        "colab": {
          "base_uri": "https://localhost:8080/",
          "height": 206
        },
        "outputId": "0826917a-c5e4-491c-e7dd-bdaf4f941381"
      },
      "source": [
        "# Load the training and test datasets using pandas' read_csv function\n",
        "# The 'train.csv' file contains the training data, and 'test.csv' contains the test data\n",
        "train_data = pd.read_csv('data/train.csv')  # Load the training dataset\n",
        "test_data = pd.read_csv('data/test.csv')    # Load the test dataset\n",
        "\n",
        "# View the first few rows of the training dataset to get an overview of its structure\n",
        "train_data.head()  # Display the first 5 rows of the training data"
      ],
      "execution_count": null,
      "outputs": [
        {
          "output_type": "execute_result",
          "data": {
            "text/plain": [
              "   id keyword location                                               text  \\\n",
              "0   1     NaN      NaN  Our Deeds are the Reason of this #earthquake M...   \n",
              "1   4     NaN      NaN             Forest fire near La Ronge Sask. Canada   \n",
              "2   5     NaN      NaN  All residents asked to 'shelter in place' are ...   \n",
              "3   6     NaN      NaN  13,000 people receive #wildfires evacuation or...   \n",
              "4   7     NaN      NaN  Just got sent this photo from Ruby #Alaska as ...   \n",
              "\n",
              "   target  \n",
              "0       1  \n",
              "1       1  \n",
              "2       1  \n",
              "3       1  \n",
              "4       1  "
            ],
            "text/html": [
              "\n",
              "  <div id=\"df-aaba9827-fb42-47a3-8c98-1ab78f7c240f\" class=\"colab-df-container\">\n",
              "    <div>\n",
              "<style scoped>\n",
              "    .dataframe tbody tr th:only-of-type {\n",
              "        vertical-align: middle;\n",
              "    }\n",
              "\n",
              "    .dataframe tbody tr th {\n",
              "        vertical-align: top;\n",
              "    }\n",
              "\n",
              "    .dataframe thead th {\n",
              "        text-align: right;\n",
              "    }\n",
              "</style>\n",
              "<table border=\"1\" class=\"dataframe\">\n",
              "  <thead>\n",
              "    <tr style=\"text-align: right;\">\n",
              "      <th></th>\n",
              "      <th>id</th>\n",
              "      <th>keyword</th>\n",
              "      <th>location</th>\n",
              "      <th>text</th>\n",
              "      <th>target</th>\n",
              "    </tr>\n",
              "  </thead>\n",
              "  <tbody>\n",
              "    <tr>\n",
              "      <th>0</th>\n",
              "      <td>1</td>\n",
              "      <td>NaN</td>\n",
              "      <td>NaN</td>\n",
              "      <td>Our Deeds are the Reason of this #earthquake M...</td>\n",
              "      <td>1</td>\n",
              "    </tr>\n",
              "    <tr>\n",
              "      <th>1</th>\n",
              "      <td>4</td>\n",
              "      <td>NaN</td>\n",
              "      <td>NaN</td>\n",
              "      <td>Forest fire near La Ronge Sask. Canada</td>\n",
              "      <td>1</td>\n",
              "    </tr>\n",
              "    <tr>\n",
              "      <th>2</th>\n",
              "      <td>5</td>\n",
              "      <td>NaN</td>\n",
              "      <td>NaN</td>\n",
              "      <td>All residents asked to 'shelter in place' are ...</td>\n",
              "      <td>1</td>\n",
              "    </tr>\n",
              "    <tr>\n",
              "      <th>3</th>\n",
              "      <td>6</td>\n",
              "      <td>NaN</td>\n",
              "      <td>NaN</td>\n",
              "      <td>13,000 people receive #wildfires evacuation or...</td>\n",
              "      <td>1</td>\n",
              "    </tr>\n",
              "    <tr>\n",
              "      <th>4</th>\n",
              "      <td>7</td>\n",
              "      <td>NaN</td>\n",
              "      <td>NaN</td>\n",
              "      <td>Just got sent this photo from Ruby #Alaska as ...</td>\n",
              "      <td>1</td>\n",
              "    </tr>\n",
              "  </tbody>\n",
              "</table>\n",
              "</div>\n",
              "    <div class=\"colab-df-buttons\">\n",
              "\n",
              "  <div class=\"colab-df-container\">\n",
              "    <button class=\"colab-df-convert\" onclick=\"convertToInteractive('df-aaba9827-fb42-47a3-8c98-1ab78f7c240f')\"\n",
              "            title=\"Convert this dataframe to an interactive table.\"\n",
              "            style=\"display:none;\">\n",
              "\n",
              "  <svg xmlns=\"http://www.w3.org/2000/svg\" height=\"24px\" viewBox=\"0 -960 960 960\">\n",
              "    <path d=\"M120-120v-720h720v720H120Zm60-500h600v-160H180v160Zm220 220h160v-160H400v160Zm0 220h160v-160H400v160ZM180-400h160v-160H180v160Zm440 0h160v-160H620v160ZM180-180h160v-160H180v160Zm440 0h160v-160H620v160Z\"/>\n",
              "  </svg>\n",
              "    </button>\n",
              "\n",
              "  <style>\n",
              "    .colab-df-container {\n",
              "      display:flex;\n",
              "      gap: 12px;\n",
              "    }\n",
              "\n",
              "    .colab-df-convert {\n",
              "      background-color: #E8F0FE;\n",
              "      border: none;\n",
              "      border-radius: 50%;\n",
              "      cursor: pointer;\n",
              "      display: none;\n",
              "      fill: #1967D2;\n",
              "      height: 32px;\n",
              "      padding: 0 0 0 0;\n",
              "      width: 32px;\n",
              "    }\n",
              "\n",
              "    .colab-df-convert:hover {\n",
              "      background-color: #E2EBFA;\n",
              "      box-shadow: 0px 1px 2px rgba(60, 64, 67, 0.3), 0px 1px 3px 1px rgba(60, 64, 67, 0.15);\n",
              "      fill: #174EA6;\n",
              "    }\n",
              "\n",
              "    .colab-df-buttons div {\n",
              "      margin-bottom: 4px;\n",
              "    }\n",
              "\n",
              "    [theme=dark] .colab-df-convert {\n",
              "      background-color: #3B4455;\n",
              "      fill: #D2E3FC;\n",
              "    }\n",
              "\n",
              "    [theme=dark] .colab-df-convert:hover {\n",
              "      background-color: #434B5C;\n",
              "      box-shadow: 0px 1px 3px 1px rgba(0, 0, 0, 0.15);\n",
              "      filter: drop-shadow(0px 1px 2px rgba(0, 0, 0, 0.3));\n",
              "      fill: #FFFFFF;\n",
              "    }\n",
              "  </style>\n",
              "\n",
              "    <script>\n",
              "      const buttonEl =\n",
              "        document.querySelector('#df-aaba9827-fb42-47a3-8c98-1ab78f7c240f button.colab-df-convert');\n",
              "      buttonEl.style.display =\n",
              "        google.colab.kernel.accessAllowed ? 'block' : 'none';\n",
              "\n",
              "      async function convertToInteractive(key) {\n",
              "        const element = document.querySelector('#df-aaba9827-fb42-47a3-8c98-1ab78f7c240f');\n",
              "        const dataTable =\n",
              "          await google.colab.kernel.invokeFunction('convertToInteractive',\n",
              "                                                    [key], {});\n",
              "        if (!dataTable) return;\n",
              "\n",
              "        const docLinkHtml = 'Like what you see? Visit the ' +\n",
              "          '<a target=\"_blank\" href=https://colab.research.google.com/notebooks/data_table.ipynb>data table notebook</a>'\n",
              "          + ' to learn more about interactive tables.';\n",
              "        element.innerHTML = '';\n",
              "        dataTable['output_type'] = 'display_data';\n",
              "        await google.colab.output.renderOutput(dataTable, element);\n",
              "        const docLink = document.createElement('div');\n",
              "        docLink.innerHTML = docLinkHtml;\n",
              "        element.appendChild(docLink);\n",
              "      }\n",
              "    </script>\n",
              "  </div>\n",
              "\n",
              "\n",
              "<div id=\"df-3c16d50c-b56f-4659-9c25-692f592be844\">\n",
              "  <button class=\"colab-df-quickchart\" onclick=\"quickchart('df-3c16d50c-b56f-4659-9c25-692f592be844')\"\n",
              "            title=\"Suggest charts\"\n",
              "            style=\"display:none;\">\n",
              "\n",
              "<svg xmlns=\"http://www.w3.org/2000/svg\" height=\"24px\"viewBox=\"0 0 24 24\"\n",
              "     width=\"24px\">\n",
              "    <g>\n",
              "        <path d=\"M19 3H5c-1.1 0-2 .9-2 2v14c0 1.1.9 2 2 2h14c1.1 0 2-.9 2-2V5c0-1.1-.9-2-2-2zM9 17H7v-7h2v7zm4 0h-2V7h2v10zm4 0h-2v-4h2v4z\"/>\n",
              "    </g>\n",
              "</svg>\n",
              "  </button>\n",
              "\n",
              "<style>\n",
              "  .colab-df-quickchart {\n",
              "      --bg-color: #E8F0FE;\n",
              "      --fill-color: #1967D2;\n",
              "      --hover-bg-color: #E2EBFA;\n",
              "      --hover-fill-color: #174EA6;\n",
              "      --disabled-fill-color: #AAA;\n",
              "      --disabled-bg-color: #DDD;\n",
              "  }\n",
              "\n",
              "  [theme=dark] .colab-df-quickchart {\n",
              "      --bg-color: #3B4455;\n",
              "      --fill-color: #D2E3FC;\n",
              "      --hover-bg-color: #434B5C;\n",
              "      --hover-fill-color: #FFFFFF;\n",
              "      --disabled-bg-color: #3B4455;\n",
              "      --disabled-fill-color: #666;\n",
              "  }\n",
              "\n",
              "  .colab-df-quickchart {\n",
              "    background-color: var(--bg-color);\n",
              "    border: none;\n",
              "    border-radius: 50%;\n",
              "    cursor: pointer;\n",
              "    display: none;\n",
              "    fill: var(--fill-color);\n",
              "    height: 32px;\n",
              "    padding: 0;\n",
              "    width: 32px;\n",
              "  }\n",
              "\n",
              "  .colab-df-quickchart:hover {\n",
              "    background-color: var(--hover-bg-color);\n",
              "    box-shadow: 0 1px 2px rgba(60, 64, 67, 0.3), 0 1px 3px 1px rgba(60, 64, 67, 0.15);\n",
              "    fill: var(--button-hover-fill-color);\n",
              "  }\n",
              "\n",
              "  .colab-df-quickchart-complete:disabled,\n",
              "  .colab-df-quickchart-complete:disabled:hover {\n",
              "    background-color: var(--disabled-bg-color);\n",
              "    fill: var(--disabled-fill-color);\n",
              "    box-shadow: none;\n",
              "  }\n",
              "\n",
              "  .colab-df-spinner {\n",
              "    border: 2px solid var(--fill-color);\n",
              "    border-color: transparent;\n",
              "    border-bottom-color: var(--fill-color);\n",
              "    animation:\n",
              "      spin 1s steps(1) infinite;\n",
              "  }\n",
              "\n",
              "  @keyframes spin {\n",
              "    0% {\n",
              "      border-color: transparent;\n",
              "      border-bottom-color: var(--fill-color);\n",
              "      border-left-color: var(--fill-color);\n",
              "    }\n",
              "    20% {\n",
              "      border-color: transparent;\n",
              "      border-left-color: var(--fill-color);\n",
              "      border-top-color: var(--fill-color);\n",
              "    }\n",
              "    30% {\n",
              "      border-color: transparent;\n",
              "      border-left-color: var(--fill-color);\n",
              "      border-top-color: var(--fill-color);\n",
              "      border-right-color: var(--fill-color);\n",
              "    }\n",
              "    40% {\n",
              "      border-color: transparent;\n",
              "      border-right-color: var(--fill-color);\n",
              "      border-top-color: var(--fill-color);\n",
              "    }\n",
              "    60% {\n",
              "      border-color: transparent;\n",
              "      border-right-color: var(--fill-color);\n",
              "    }\n",
              "    80% {\n",
              "      border-color: transparent;\n",
              "      border-right-color: var(--fill-color);\n",
              "      border-bottom-color: var(--fill-color);\n",
              "    }\n",
              "    90% {\n",
              "      border-color: transparent;\n",
              "      border-bottom-color: var(--fill-color);\n",
              "    }\n",
              "  }\n",
              "</style>\n",
              "\n",
              "  <script>\n",
              "    async function quickchart(key) {\n",
              "      const quickchartButtonEl =\n",
              "        document.querySelector('#' + key + ' button');\n",
              "      quickchartButtonEl.disabled = true;  // To prevent multiple clicks.\n",
              "      quickchartButtonEl.classList.add('colab-df-spinner');\n",
              "      try {\n",
              "        const charts = await google.colab.kernel.invokeFunction(\n",
              "            'suggestCharts', [key], {});\n",
              "      } catch (error) {\n",
              "        console.error('Error during call to suggestCharts:', error);\n",
              "      }\n",
              "      quickchartButtonEl.classList.remove('colab-df-spinner');\n",
              "      quickchartButtonEl.classList.add('colab-df-quickchart-complete');\n",
              "    }\n",
              "    (() => {\n",
              "      let quickchartButtonEl =\n",
              "        document.querySelector('#df-3c16d50c-b56f-4659-9c25-692f592be844 button');\n",
              "      quickchartButtonEl.style.display =\n",
              "        google.colab.kernel.accessAllowed ? 'block' : 'none';\n",
              "    })();\n",
              "  </script>\n",
              "</div>\n",
              "\n",
              "    </div>\n",
              "  </div>\n"
            ],
            "application/vnd.google.colaboratory.intrinsic+json": {
              "type": "dataframe",
              "variable_name": "train_data",
              "summary": "{\n  \"name\": \"train_data\",\n  \"rows\": 7613,\n  \"fields\": [\n    {\n      \"column\": \"id\",\n      \"properties\": {\n        \"dtype\": \"number\",\n        \"std\": 3137,\n        \"min\": 1,\n        \"max\": 10873,\n        \"num_unique_values\": 7613,\n        \"samples\": [\n          3796,\n          3185,\n          7769\n        ],\n        \"semantic_type\": \"\",\n        \"description\": \"\"\n      }\n    },\n    {\n      \"column\": \"keyword\",\n      \"properties\": {\n        \"dtype\": \"category\",\n        \"num_unique_values\": 221,\n        \"samples\": [\n          \"injury\",\n          \"nuclear%20reactor\",\n          \"engulfed\"\n        ],\n        \"semantic_type\": \"\",\n        \"description\": \"\"\n      }\n    },\n    {\n      \"column\": \"location\",\n      \"properties\": {\n        \"dtype\": \"category\",\n        \"num_unique_values\": 3341,\n        \"samples\": [\n          \"Oklahoma\",\n          \"Starling City\",\n          \"Trinidad and Tobago\"\n        ],\n        \"semantic_type\": \"\",\n        \"description\": \"\"\n      }\n    },\n    {\n      \"column\": \"text\",\n      \"properties\": {\n        \"dtype\": \"string\",\n        \"num_unique_values\": 7503,\n        \"samples\": [\n          \"Three Homes Demolished in Unrecognized Arab Village - International Middle East Media Center http://t.co/ik8m4Yi9T4\",\n          \"Reid Lake fire prompts campground evacuation order http://t.co/jBODKM6rBU\",\n          \"FAAN orders evacuation of abandoned aircraft at MMA http://t.co/dEvYbnVXGQ via @todayng\"\n        ],\n        \"semantic_type\": \"\",\n        \"description\": \"\"\n      }\n    },\n    {\n      \"column\": \"target\",\n      \"properties\": {\n        \"dtype\": \"number\",\n        \"std\": 0,\n        \"min\": 0,\n        \"max\": 1,\n        \"num_unique_values\": 2,\n        \"samples\": [\n          0,\n          1\n        ],\n        \"semantic_type\": \"\",\n        \"description\": \"\"\n      }\n    }\n  ]\n}"
            }
          },
          "metadata": {},
          "execution_count": 79
        }
      ]
    },
    {
      "cell_type": "code",
      "metadata": {
        "colab": {
          "base_uri": "https://localhost:8080/"
        },
        "id": "BpMann9q-gEW",
        "outputId": "d5410f85-4b36-4f4d-b6ed-81015ab6dfbf"
      },
      "source": [
        "# Check and print the size (number of rows and columns) of the training dataset\n",
        "print(\"Train data size \\n\", train_data.shape)  # Output the shape of the training data (rows, columns)\n",
        "\n",
        "print()  # Print an empty line for better readability in the output\n",
        "\n",
        "# The next line is commented out, but it would print the size of the test dataset if uncommented.\n",
        "# print(\"Test data size \\n\", test_df.shape)  # Output the shape of the test data (rows, columns)"
      ],
      "execution_count": null,
      "outputs": [
        {
          "output_type": "stream",
          "name": "stdout",
          "text": [
            "Train data size \n",
            " (7613, 5)\n",
            "\n"
          ]
        }
      ]
    },
    {
      "cell_type": "code",
      "source": [
        "# Check and print the size (number of rows and columns) of the test dataset\n",
        "print(\"Train data size \\n\", test_data.shape)"
      ],
      "metadata": {
        "colab": {
          "base_uri": "https://localhost:8080/"
        },
        "id": "v8lKr7G2cGxp",
        "outputId": "de24839c-0c62-4b58-cfe0-7b17dee8ea17"
      },
      "execution_count": null,
      "outputs": [
        {
          "output_type": "stream",
          "name": "stdout",
          "text": [
            "Train data size \n",
            " (3263, 4)\n"
          ]
        }
      ]
    },
    {
      "cell_type": "code",
      "metadata": {
        "colab": {
          "base_uri": "https://localhost:8080/",
          "height": 206
        },
        "id": "GgLuLYMk-0L1",
        "outputId": "ab614f5c-3391-47db-ed47-d86c0485f04b"
      },
      "source": [
        "# Display the first few rows (sample) of the training dataset to inspect its structure and contents.\n",
        "train_data.head()  # Shows the first 5 rows of the 'train_data' DataFrame for a quick preview"
      ],
      "execution_count": null,
      "outputs": [
        {
          "output_type": "execute_result",
          "data": {
            "text/plain": [
              "   id keyword location                                               text  \\\n",
              "0   1     NaN      NaN  Our Deeds are the Reason of this #earthquake M...   \n",
              "1   4     NaN      NaN             Forest fire near La Ronge Sask. Canada   \n",
              "2   5     NaN      NaN  All residents asked to 'shelter in place' are ...   \n",
              "3   6     NaN      NaN  13,000 people receive #wildfires evacuation or...   \n",
              "4   7     NaN      NaN  Just got sent this photo from Ruby #Alaska as ...   \n",
              "\n",
              "   target  \n",
              "0       1  \n",
              "1       1  \n",
              "2       1  \n",
              "3       1  \n",
              "4       1  "
            ],
            "text/html": [
              "\n",
              "  <div id=\"df-35d7e993-e016-47a7-a929-8afb7a57ab7a\" class=\"colab-df-container\">\n",
              "    <div>\n",
              "<style scoped>\n",
              "    .dataframe tbody tr th:only-of-type {\n",
              "        vertical-align: middle;\n",
              "    }\n",
              "\n",
              "    .dataframe tbody tr th {\n",
              "        vertical-align: top;\n",
              "    }\n",
              "\n",
              "    .dataframe thead th {\n",
              "        text-align: right;\n",
              "    }\n",
              "</style>\n",
              "<table border=\"1\" class=\"dataframe\">\n",
              "  <thead>\n",
              "    <tr style=\"text-align: right;\">\n",
              "      <th></th>\n",
              "      <th>id</th>\n",
              "      <th>keyword</th>\n",
              "      <th>location</th>\n",
              "      <th>text</th>\n",
              "      <th>target</th>\n",
              "    </tr>\n",
              "  </thead>\n",
              "  <tbody>\n",
              "    <tr>\n",
              "      <th>0</th>\n",
              "      <td>1</td>\n",
              "      <td>NaN</td>\n",
              "      <td>NaN</td>\n",
              "      <td>Our Deeds are the Reason of this #earthquake M...</td>\n",
              "      <td>1</td>\n",
              "    </tr>\n",
              "    <tr>\n",
              "      <th>1</th>\n",
              "      <td>4</td>\n",
              "      <td>NaN</td>\n",
              "      <td>NaN</td>\n",
              "      <td>Forest fire near La Ronge Sask. Canada</td>\n",
              "      <td>1</td>\n",
              "    </tr>\n",
              "    <tr>\n",
              "      <th>2</th>\n",
              "      <td>5</td>\n",
              "      <td>NaN</td>\n",
              "      <td>NaN</td>\n",
              "      <td>All residents asked to 'shelter in place' are ...</td>\n",
              "      <td>1</td>\n",
              "    </tr>\n",
              "    <tr>\n",
              "      <th>3</th>\n",
              "      <td>6</td>\n",
              "      <td>NaN</td>\n",
              "      <td>NaN</td>\n",
              "      <td>13,000 people receive #wildfires evacuation or...</td>\n",
              "      <td>1</td>\n",
              "    </tr>\n",
              "    <tr>\n",
              "      <th>4</th>\n",
              "      <td>7</td>\n",
              "      <td>NaN</td>\n",
              "      <td>NaN</td>\n",
              "      <td>Just got sent this photo from Ruby #Alaska as ...</td>\n",
              "      <td>1</td>\n",
              "    </tr>\n",
              "  </tbody>\n",
              "</table>\n",
              "</div>\n",
              "    <div class=\"colab-df-buttons\">\n",
              "\n",
              "  <div class=\"colab-df-container\">\n",
              "    <button class=\"colab-df-convert\" onclick=\"convertToInteractive('df-35d7e993-e016-47a7-a929-8afb7a57ab7a')\"\n",
              "            title=\"Convert this dataframe to an interactive table.\"\n",
              "            style=\"display:none;\">\n",
              "\n",
              "  <svg xmlns=\"http://www.w3.org/2000/svg\" height=\"24px\" viewBox=\"0 -960 960 960\">\n",
              "    <path d=\"M120-120v-720h720v720H120Zm60-500h600v-160H180v160Zm220 220h160v-160H400v160Zm0 220h160v-160H400v160ZM180-400h160v-160H180v160Zm440 0h160v-160H620v160ZM180-180h160v-160H180v160Zm440 0h160v-160H620v160Z\"/>\n",
              "  </svg>\n",
              "    </button>\n",
              "\n",
              "  <style>\n",
              "    .colab-df-container {\n",
              "      display:flex;\n",
              "      gap: 12px;\n",
              "    }\n",
              "\n",
              "    .colab-df-convert {\n",
              "      background-color: #E8F0FE;\n",
              "      border: none;\n",
              "      border-radius: 50%;\n",
              "      cursor: pointer;\n",
              "      display: none;\n",
              "      fill: #1967D2;\n",
              "      height: 32px;\n",
              "      padding: 0 0 0 0;\n",
              "      width: 32px;\n",
              "    }\n",
              "\n",
              "    .colab-df-convert:hover {\n",
              "      background-color: #E2EBFA;\n",
              "      box-shadow: 0px 1px 2px rgba(60, 64, 67, 0.3), 0px 1px 3px 1px rgba(60, 64, 67, 0.15);\n",
              "      fill: #174EA6;\n",
              "    }\n",
              "\n",
              "    .colab-df-buttons div {\n",
              "      margin-bottom: 4px;\n",
              "    }\n",
              "\n",
              "    [theme=dark] .colab-df-convert {\n",
              "      background-color: #3B4455;\n",
              "      fill: #D2E3FC;\n",
              "    }\n",
              "\n",
              "    [theme=dark] .colab-df-convert:hover {\n",
              "      background-color: #434B5C;\n",
              "      box-shadow: 0px 1px 3px 1px rgba(0, 0, 0, 0.15);\n",
              "      filter: drop-shadow(0px 1px 2px rgba(0, 0, 0, 0.3));\n",
              "      fill: #FFFFFF;\n",
              "    }\n",
              "  </style>\n",
              "\n",
              "    <script>\n",
              "      const buttonEl =\n",
              "        document.querySelector('#df-35d7e993-e016-47a7-a929-8afb7a57ab7a button.colab-df-convert');\n",
              "      buttonEl.style.display =\n",
              "        google.colab.kernel.accessAllowed ? 'block' : 'none';\n",
              "\n",
              "      async function convertToInteractive(key) {\n",
              "        const element = document.querySelector('#df-35d7e993-e016-47a7-a929-8afb7a57ab7a');\n",
              "        const dataTable =\n",
              "          await google.colab.kernel.invokeFunction('convertToInteractive',\n",
              "                                                    [key], {});\n",
              "        if (!dataTable) return;\n",
              "\n",
              "        const docLinkHtml = 'Like what you see? Visit the ' +\n",
              "          '<a target=\"_blank\" href=https://colab.research.google.com/notebooks/data_table.ipynb>data table notebook</a>'\n",
              "          + ' to learn more about interactive tables.';\n",
              "        element.innerHTML = '';\n",
              "        dataTable['output_type'] = 'display_data';\n",
              "        await google.colab.output.renderOutput(dataTable, element);\n",
              "        const docLink = document.createElement('div');\n",
              "        docLink.innerHTML = docLinkHtml;\n",
              "        element.appendChild(docLink);\n",
              "      }\n",
              "    </script>\n",
              "  </div>\n",
              "\n",
              "\n",
              "<div id=\"df-80957102-0ec4-470b-a152-a9be798855bd\">\n",
              "  <button class=\"colab-df-quickchart\" onclick=\"quickchart('df-80957102-0ec4-470b-a152-a9be798855bd')\"\n",
              "            title=\"Suggest charts\"\n",
              "            style=\"display:none;\">\n",
              "\n",
              "<svg xmlns=\"http://www.w3.org/2000/svg\" height=\"24px\"viewBox=\"0 0 24 24\"\n",
              "     width=\"24px\">\n",
              "    <g>\n",
              "        <path d=\"M19 3H5c-1.1 0-2 .9-2 2v14c0 1.1.9 2 2 2h14c1.1 0 2-.9 2-2V5c0-1.1-.9-2-2-2zM9 17H7v-7h2v7zm4 0h-2V7h2v10zm4 0h-2v-4h2v4z\"/>\n",
              "    </g>\n",
              "</svg>\n",
              "  </button>\n",
              "\n",
              "<style>\n",
              "  .colab-df-quickchart {\n",
              "      --bg-color: #E8F0FE;\n",
              "      --fill-color: #1967D2;\n",
              "      --hover-bg-color: #E2EBFA;\n",
              "      --hover-fill-color: #174EA6;\n",
              "      --disabled-fill-color: #AAA;\n",
              "      --disabled-bg-color: #DDD;\n",
              "  }\n",
              "\n",
              "  [theme=dark] .colab-df-quickchart {\n",
              "      --bg-color: #3B4455;\n",
              "      --fill-color: #D2E3FC;\n",
              "      --hover-bg-color: #434B5C;\n",
              "      --hover-fill-color: #FFFFFF;\n",
              "      --disabled-bg-color: #3B4455;\n",
              "      --disabled-fill-color: #666;\n",
              "  }\n",
              "\n",
              "  .colab-df-quickchart {\n",
              "    background-color: var(--bg-color);\n",
              "    border: none;\n",
              "    border-radius: 50%;\n",
              "    cursor: pointer;\n",
              "    display: none;\n",
              "    fill: var(--fill-color);\n",
              "    height: 32px;\n",
              "    padding: 0;\n",
              "    width: 32px;\n",
              "  }\n",
              "\n",
              "  .colab-df-quickchart:hover {\n",
              "    background-color: var(--hover-bg-color);\n",
              "    box-shadow: 0 1px 2px rgba(60, 64, 67, 0.3), 0 1px 3px 1px rgba(60, 64, 67, 0.15);\n",
              "    fill: var(--button-hover-fill-color);\n",
              "  }\n",
              "\n",
              "  .colab-df-quickchart-complete:disabled,\n",
              "  .colab-df-quickchart-complete:disabled:hover {\n",
              "    background-color: var(--disabled-bg-color);\n",
              "    fill: var(--disabled-fill-color);\n",
              "    box-shadow: none;\n",
              "  }\n",
              "\n",
              "  .colab-df-spinner {\n",
              "    border: 2px solid var(--fill-color);\n",
              "    border-color: transparent;\n",
              "    border-bottom-color: var(--fill-color);\n",
              "    animation:\n",
              "      spin 1s steps(1) infinite;\n",
              "  }\n",
              "\n",
              "  @keyframes spin {\n",
              "    0% {\n",
              "      border-color: transparent;\n",
              "      border-bottom-color: var(--fill-color);\n",
              "      border-left-color: var(--fill-color);\n",
              "    }\n",
              "    20% {\n",
              "      border-color: transparent;\n",
              "      border-left-color: var(--fill-color);\n",
              "      border-top-color: var(--fill-color);\n",
              "    }\n",
              "    30% {\n",
              "      border-color: transparent;\n",
              "      border-left-color: var(--fill-color);\n",
              "      border-top-color: var(--fill-color);\n",
              "      border-right-color: var(--fill-color);\n",
              "    }\n",
              "    40% {\n",
              "      border-color: transparent;\n",
              "      border-right-color: var(--fill-color);\n",
              "      border-top-color: var(--fill-color);\n",
              "    }\n",
              "    60% {\n",
              "      border-color: transparent;\n",
              "      border-right-color: var(--fill-color);\n",
              "    }\n",
              "    80% {\n",
              "      border-color: transparent;\n",
              "      border-right-color: var(--fill-color);\n",
              "      border-bottom-color: var(--fill-color);\n",
              "    }\n",
              "    90% {\n",
              "      border-color: transparent;\n",
              "      border-bottom-color: var(--fill-color);\n",
              "    }\n",
              "  }\n",
              "</style>\n",
              "\n",
              "  <script>\n",
              "    async function quickchart(key) {\n",
              "      const quickchartButtonEl =\n",
              "        document.querySelector('#' + key + ' button');\n",
              "      quickchartButtonEl.disabled = true;  // To prevent multiple clicks.\n",
              "      quickchartButtonEl.classList.add('colab-df-spinner');\n",
              "      try {\n",
              "        const charts = await google.colab.kernel.invokeFunction(\n",
              "            'suggestCharts', [key], {});\n",
              "      } catch (error) {\n",
              "        console.error('Error during call to suggestCharts:', error);\n",
              "      }\n",
              "      quickchartButtonEl.classList.remove('colab-df-spinner');\n",
              "      quickchartButtonEl.classList.add('colab-df-quickchart-complete');\n",
              "    }\n",
              "    (() => {\n",
              "      let quickchartButtonEl =\n",
              "        document.querySelector('#df-80957102-0ec4-470b-a152-a9be798855bd button');\n",
              "      quickchartButtonEl.style.display =\n",
              "        google.colab.kernel.accessAllowed ? 'block' : 'none';\n",
              "    })();\n",
              "  </script>\n",
              "</div>\n",
              "\n",
              "    </div>\n",
              "  </div>\n"
            ],
            "application/vnd.google.colaboratory.intrinsic+json": {
              "type": "dataframe",
              "variable_name": "train_data",
              "summary": "{\n  \"name\": \"train_data\",\n  \"rows\": 7613,\n  \"fields\": [\n    {\n      \"column\": \"id\",\n      \"properties\": {\n        \"dtype\": \"number\",\n        \"std\": 3137,\n        \"min\": 1,\n        \"max\": 10873,\n        \"num_unique_values\": 7613,\n        \"samples\": [\n          3796,\n          3185,\n          7769\n        ],\n        \"semantic_type\": \"\",\n        \"description\": \"\"\n      }\n    },\n    {\n      \"column\": \"keyword\",\n      \"properties\": {\n        \"dtype\": \"category\",\n        \"num_unique_values\": 221,\n        \"samples\": [\n          \"injury\",\n          \"nuclear%20reactor\",\n          \"engulfed\"\n        ],\n        \"semantic_type\": \"\",\n        \"description\": \"\"\n      }\n    },\n    {\n      \"column\": \"location\",\n      \"properties\": {\n        \"dtype\": \"category\",\n        \"num_unique_values\": 3341,\n        \"samples\": [\n          \"Oklahoma\",\n          \"Starling City\",\n          \"Trinidad and Tobago\"\n        ],\n        \"semantic_type\": \"\",\n        \"description\": \"\"\n      }\n    },\n    {\n      \"column\": \"text\",\n      \"properties\": {\n        \"dtype\": \"string\",\n        \"num_unique_values\": 7503,\n        \"samples\": [\n          \"Three Homes Demolished in Unrecognized Arab Village - International Middle East Media Center http://t.co/ik8m4Yi9T4\",\n          \"Reid Lake fire prompts campground evacuation order http://t.co/jBODKM6rBU\",\n          \"FAAN orders evacuation of abandoned aircraft at MMA http://t.co/dEvYbnVXGQ via @todayng\"\n        ],\n        \"semantic_type\": \"\",\n        \"description\": \"\"\n      }\n    },\n    {\n      \"column\": \"target\",\n      \"properties\": {\n        \"dtype\": \"number\",\n        \"std\": 0,\n        \"min\": 0,\n        \"max\": 1,\n        \"num_unique_values\": 2,\n        \"samples\": [\n          0,\n          1\n        ],\n        \"semantic_type\": \"\",\n        \"description\": \"\"\n      }\n    }\n  ]\n}"
            }
          },
          "metadata": {},
          "execution_count": 82
        }
      ]
    },
    {
      "cell_type": "code",
      "metadata": {
        "id": "fuSDpLMp_2qw",
        "colab": {
          "base_uri": "https://localhost:8080/",
          "height": 206
        },
        "outputId": "5c2c35d6-c77b-4b6b-f9a0-350749182fbd"
      },
      "source": [
        "# Display the first few rows (sample) of the test dataset to inspect its structure and contents.\n",
        "test_data.head()  # Shows the first 5 rows of the 'test_data' DataFrame for a quick preview"
      ],
      "execution_count": null,
      "outputs": [
        {
          "output_type": "execute_result",
          "data": {
            "text/plain": [
              "   id keyword location                                               text\n",
              "0   0     NaN      NaN                 Just happened a terrible car crash\n",
              "1   2     NaN      NaN  Heard about #earthquake is different cities, s...\n",
              "2   3     NaN      NaN  there is a forest fire at spot pond, geese are...\n",
              "3   9     NaN      NaN           Apocalypse lighting. #Spokane #wildfires\n",
              "4  11     NaN      NaN      Typhoon Soudelor kills 28 in China and Taiwan"
            ],
            "text/html": [
              "\n",
              "  <div id=\"df-e8317c79-cfe0-4511-89bb-9349e22d4faa\" class=\"colab-df-container\">\n",
              "    <div>\n",
              "<style scoped>\n",
              "    .dataframe tbody tr th:only-of-type {\n",
              "        vertical-align: middle;\n",
              "    }\n",
              "\n",
              "    .dataframe tbody tr th {\n",
              "        vertical-align: top;\n",
              "    }\n",
              "\n",
              "    .dataframe thead th {\n",
              "        text-align: right;\n",
              "    }\n",
              "</style>\n",
              "<table border=\"1\" class=\"dataframe\">\n",
              "  <thead>\n",
              "    <tr style=\"text-align: right;\">\n",
              "      <th></th>\n",
              "      <th>id</th>\n",
              "      <th>keyword</th>\n",
              "      <th>location</th>\n",
              "      <th>text</th>\n",
              "    </tr>\n",
              "  </thead>\n",
              "  <tbody>\n",
              "    <tr>\n",
              "      <th>0</th>\n",
              "      <td>0</td>\n",
              "      <td>NaN</td>\n",
              "      <td>NaN</td>\n",
              "      <td>Just happened a terrible car crash</td>\n",
              "    </tr>\n",
              "    <tr>\n",
              "      <th>1</th>\n",
              "      <td>2</td>\n",
              "      <td>NaN</td>\n",
              "      <td>NaN</td>\n",
              "      <td>Heard about #earthquake is different cities, s...</td>\n",
              "    </tr>\n",
              "    <tr>\n",
              "      <th>2</th>\n",
              "      <td>3</td>\n",
              "      <td>NaN</td>\n",
              "      <td>NaN</td>\n",
              "      <td>there is a forest fire at spot pond, geese are...</td>\n",
              "    </tr>\n",
              "    <tr>\n",
              "      <th>3</th>\n",
              "      <td>9</td>\n",
              "      <td>NaN</td>\n",
              "      <td>NaN</td>\n",
              "      <td>Apocalypse lighting. #Spokane #wildfires</td>\n",
              "    </tr>\n",
              "    <tr>\n",
              "      <th>4</th>\n",
              "      <td>11</td>\n",
              "      <td>NaN</td>\n",
              "      <td>NaN</td>\n",
              "      <td>Typhoon Soudelor kills 28 in China and Taiwan</td>\n",
              "    </tr>\n",
              "  </tbody>\n",
              "</table>\n",
              "</div>\n",
              "    <div class=\"colab-df-buttons\">\n",
              "\n",
              "  <div class=\"colab-df-container\">\n",
              "    <button class=\"colab-df-convert\" onclick=\"convertToInteractive('df-e8317c79-cfe0-4511-89bb-9349e22d4faa')\"\n",
              "            title=\"Convert this dataframe to an interactive table.\"\n",
              "            style=\"display:none;\">\n",
              "\n",
              "  <svg xmlns=\"http://www.w3.org/2000/svg\" height=\"24px\" viewBox=\"0 -960 960 960\">\n",
              "    <path d=\"M120-120v-720h720v720H120Zm60-500h600v-160H180v160Zm220 220h160v-160H400v160Zm0 220h160v-160H400v160ZM180-400h160v-160H180v160Zm440 0h160v-160H620v160ZM180-180h160v-160H180v160Zm440 0h160v-160H620v160Z\"/>\n",
              "  </svg>\n",
              "    </button>\n",
              "\n",
              "  <style>\n",
              "    .colab-df-container {\n",
              "      display:flex;\n",
              "      gap: 12px;\n",
              "    }\n",
              "\n",
              "    .colab-df-convert {\n",
              "      background-color: #E8F0FE;\n",
              "      border: none;\n",
              "      border-radius: 50%;\n",
              "      cursor: pointer;\n",
              "      display: none;\n",
              "      fill: #1967D2;\n",
              "      height: 32px;\n",
              "      padding: 0 0 0 0;\n",
              "      width: 32px;\n",
              "    }\n",
              "\n",
              "    .colab-df-convert:hover {\n",
              "      background-color: #E2EBFA;\n",
              "      box-shadow: 0px 1px 2px rgba(60, 64, 67, 0.3), 0px 1px 3px 1px rgba(60, 64, 67, 0.15);\n",
              "      fill: #174EA6;\n",
              "    }\n",
              "\n",
              "    .colab-df-buttons div {\n",
              "      margin-bottom: 4px;\n",
              "    }\n",
              "\n",
              "    [theme=dark] .colab-df-convert {\n",
              "      background-color: #3B4455;\n",
              "      fill: #D2E3FC;\n",
              "    }\n",
              "\n",
              "    [theme=dark] .colab-df-convert:hover {\n",
              "      background-color: #434B5C;\n",
              "      box-shadow: 0px 1px 3px 1px rgba(0, 0, 0, 0.15);\n",
              "      filter: drop-shadow(0px 1px 2px rgba(0, 0, 0, 0.3));\n",
              "      fill: #FFFFFF;\n",
              "    }\n",
              "  </style>\n",
              "\n",
              "    <script>\n",
              "      const buttonEl =\n",
              "        document.querySelector('#df-e8317c79-cfe0-4511-89bb-9349e22d4faa button.colab-df-convert');\n",
              "      buttonEl.style.display =\n",
              "        google.colab.kernel.accessAllowed ? 'block' : 'none';\n",
              "\n",
              "      async function convertToInteractive(key) {\n",
              "        const element = document.querySelector('#df-e8317c79-cfe0-4511-89bb-9349e22d4faa');\n",
              "        const dataTable =\n",
              "          await google.colab.kernel.invokeFunction('convertToInteractive',\n",
              "                                                    [key], {});\n",
              "        if (!dataTable) return;\n",
              "\n",
              "        const docLinkHtml = 'Like what you see? Visit the ' +\n",
              "          '<a target=\"_blank\" href=https://colab.research.google.com/notebooks/data_table.ipynb>data table notebook</a>'\n",
              "          + ' to learn more about interactive tables.';\n",
              "        element.innerHTML = '';\n",
              "        dataTable['output_type'] = 'display_data';\n",
              "        await google.colab.output.renderOutput(dataTable, element);\n",
              "        const docLink = document.createElement('div');\n",
              "        docLink.innerHTML = docLinkHtml;\n",
              "        element.appendChild(docLink);\n",
              "      }\n",
              "    </script>\n",
              "  </div>\n",
              "\n",
              "\n",
              "<div id=\"df-64e19fdc-4f7e-44ba-84b7-99063783aca2\">\n",
              "  <button class=\"colab-df-quickchart\" onclick=\"quickchart('df-64e19fdc-4f7e-44ba-84b7-99063783aca2')\"\n",
              "            title=\"Suggest charts\"\n",
              "            style=\"display:none;\">\n",
              "\n",
              "<svg xmlns=\"http://www.w3.org/2000/svg\" height=\"24px\"viewBox=\"0 0 24 24\"\n",
              "     width=\"24px\">\n",
              "    <g>\n",
              "        <path d=\"M19 3H5c-1.1 0-2 .9-2 2v14c0 1.1.9 2 2 2h14c1.1 0 2-.9 2-2V5c0-1.1-.9-2-2-2zM9 17H7v-7h2v7zm4 0h-2V7h2v10zm4 0h-2v-4h2v4z\"/>\n",
              "    </g>\n",
              "</svg>\n",
              "  </button>\n",
              "\n",
              "<style>\n",
              "  .colab-df-quickchart {\n",
              "      --bg-color: #E8F0FE;\n",
              "      --fill-color: #1967D2;\n",
              "      --hover-bg-color: #E2EBFA;\n",
              "      --hover-fill-color: #174EA6;\n",
              "      --disabled-fill-color: #AAA;\n",
              "      --disabled-bg-color: #DDD;\n",
              "  }\n",
              "\n",
              "  [theme=dark] .colab-df-quickchart {\n",
              "      --bg-color: #3B4455;\n",
              "      --fill-color: #D2E3FC;\n",
              "      --hover-bg-color: #434B5C;\n",
              "      --hover-fill-color: #FFFFFF;\n",
              "      --disabled-bg-color: #3B4455;\n",
              "      --disabled-fill-color: #666;\n",
              "  }\n",
              "\n",
              "  .colab-df-quickchart {\n",
              "    background-color: var(--bg-color);\n",
              "    border: none;\n",
              "    border-radius: 50%;\n",
              "    cursor: pointer;\n",
              "    display: none;\n",
              "    fill: var(--fill-color);\n",
              "    height: 32px;\n",
              "    padding: 0;\n",
              "    width: 32px;\n",
              "  }\n",
              "\n",
              "  .colab-df-quickchart:hover {\n",
              "    background-color: var(--hover-bg-color);\n",
              "    box-shadow: 0 1px 2px rgba(60, 64, 67, 0.3), 0 1px 3px 1px rgba(60, 64, 67, 0.15);\n",
              "    fill: var(--button-hover-fill-color);\n",
              "  }\n",
              "\n",
              "  .colab-df-quickchart-complete:disabled,\n",
              "  .colab-df-quickchart-complete:disabled:hover {\n",
              "    background-color: var(--disabled-bg-color);\n",
              "    fill: var(--disabled-fill-color);\n",
              "    box-shadow: none;\n",
              "  }\n",
              "\n",
              "  .colab-df-spinner {\n",
              "    border: 2px solid var(--fill-color);\n",
              "    border-color: transparent;\n",
              "    border-bottom-color: var(--fill-color);\n",
              "    animation:\n",
              "      spin 1s steps(1) infinite;\n",
              "  }\n",
              "\n",
              "  @keyframes spin {\n",
              "    0% {\n",
              "      border-color: transparent;\n",
              "      border-bottom-color: var(--fill-color);\n",
              "      border-left-color: var(--fill-color);\n",
              "    }\n",
              "    20% {\n",
              "      border-color: transparent;\n",
              "      border-left-color: var(--fill-color);\n",
              "      border-top-color: var(--fill-color);\n",
              "    }\n",
              "    30% {\n",
              "      border-color: transparent;\n",
              "      border-left-color: var(--fill-color);\n",
              "      border-top-color: var(--fill-color);\n",
              "      border-right-color: var(--fill-color);\n",
              "    }\n",
              "    40% {\n",
              "      border-color: transparent;\n",
              "      border-right-color: var(--fill-color);\n",
              "      border-top-color: var(--fill-color);\n",
              "    }\n",
              "    60% {\n",
              "      border-color: transparent;\n",
              "      border-right-color: var(--fill-color);\n",
              "    }\n",
              "    80% {\n",
              "      border-color: transparent;\n",
              "      border-right-color: var(--fill-color);\n",
              "      border-bottom-color: var(--fill-color);\n",
              "    }\n",
              "    90% {\n",
              "      border-color: transparent;\n",
              "      border-bottom-color: var(--fill-color);\n",
              "    }\n",
              "  }\n",
              "</style>\n",
              "\n",
              "  <script>\n",
              "    async function quickchart(key) {\n",
              "      const quickchartButtonEl =\n",
              "        document.querySelector('#' + key + ' button');\n",
              "      quickchartButtonEl.disabled = true;  // To prevent multiple clicks.\n",
              "      quickchartButtonEl.classList.add('colab-df-spinner');\n",
              "      try {\n",
              "        const charts = await google.colab.kernel.invokeFunction(\n",
              "            'suggestCharts', [key], {});\n",
              "      } catch (error) {\n",
              "        console.error('Error during call to suggestCharts:', error);\n",
              "      }\n",
              "      quickchartButtonEl.classList.remove('colab-df-spinner');\n",
              "      quickchartButtonEl.classList.add('colab-df-quickchart-complete');\n",
              "    }\n",
              "    (() => {\n",
              "      let quickchartButtonEl =\n",
              "        document.querySelector('#df-64e19fdc-4f7e-44ba-84b7-99063783aca2 button');\n",
              "      quickchartButtonEl.style.display =\n",
              "        google.colab.kernel.accessAllowed ? 'block' : 'none';\n",
              "    })();\n",
              "  </script>\n",
              "</div>\n",
              "\n",
              "    </div>\n",
              "  </div>\n"
            ],
            "application/vnd.google.colaboratory.intrinsic+json": {
              "type": "dataframe",
              "variable_name": "test_data",
              "summary": "{\n  \"name\": \"test_data\",\n  \"rows\": 3263,\n  \"fields\": [\n    {\n      \"column\": \"id\",\n      \"properties\": {\n        \"dtype\": \"number\",\n        \"std\": 3146,\n        \"min\": 0,\n        \"max\": 10875,\n        \"num_unique_values\": 3263,\n        \"samples\": [\n          8051,\n          425,\n          1330\n        ],\n        \"semantic_type\": \"\",\n        \"description\": \"\"\n      }\n    },\n    {\n      \"column\": \"keyword\",\n      \"properties\": {\n        \"dtype\": \"category\",\n        \"num_unique_values\": 221,\n        \"samples\": [\n          \"injury\",\n          \"nuclear%20reactor\",\n          \"engulfed\"\n        ],\n        \"semantic_type\": \"\",\n        \"description\": \"\"\n      }\n    },\n    {\n      \"column\": \"location\",\n      \"properties\": {\n        \"dtype\": \"category\",\n        \"num_unique_values\": 1602,\n        \"samples\": [\n          \"UAE\",\n          \"Tokio / Tokyo\",\n          \"Texas\"\n        ],\n        \"semantic_type\": \"\",\n        \"description\": \"\"\n      }\n    },\n    {\n      \"column\": \"text\",\n      \"properties\": {\n        \"dtype\": \"string\",\n        \"num_unique_values\": 3243,\n        \"samples\": [\n          \"Latest: USA: Huge sinkhole swallows up Brooklyn intersection http://t.co/vspKHg3nZy\",\n          \"I liked a @YouTube video http://t.co/a5YTAw9Vih S.O.S. Rona Guide - The Red Whirlwind\",\n          \"HitchBot travels Europe and greeted with open arms. Gets destroyed after two weeks in america. There's a lesson to be learned here.\"\n        ],\n        \"semantic_type\": \"\",\n        \"description\": \"\"\n      }\n    }\n  ]\n}"
            }
          },
          "metadata": {},
          "execution_count": 83
        }
      ]
    },
    {
      "cell_type": "code",
      "metadata": {
        "colab": {
          "base_uri": "https://localhost:8080/"
        },
        "id": "8UAabEFX-6vU",
        "outputId": "e02343d0-ad89-459e-fae2-d6740b87de48"
      },
      "source": [
        "# checking for any duplicates in the text columns\n",
        "train_data['text'].duplicated().sum()"
      ],
      "execution_count": null,
      "outputs": [
        {
          "output_type": "execute_result",
          "data": {
            "text/plain": [
              "110"
            ]
          },
          "metadata": {},
          "execution_count": 84
        }
      ]
    },
    {
      "cell_type": "code",
      "metadata": {
        "colab": {
          "base_uri": "https://localhost:8080/"
        },
        "id": "3EkGO13L_f3i",
        "outputId": "75a385af-7cea-4c1b-9170-b5c919900234"
      },
      "source": [
        "# dropping the duplicates\n",
        "train_data.drop_duplicates('text', keep='first')\n",
        "train_data.shape"
      ],
      "execution_count": null,
      "outputs": [
        {
          "output_type": "execute_result",
          "data": {
            "text/plain": [
              "(7613, 5)"
            ]
          },
          "metadata": {},
          "execution_count": 85
        }
      ]
    },
    {
      "cell_type": "code",
      "metadata": {
        "colab": {
          "base_uri": "https://localhost:8080/",
          "height": 461
        },
        "id": "3dOV8yZ__lns",
        "outputId": "9033715d-9d6a-40af-da97-57ffdc674804"
      },
      "source": [
        "# checking the target distribution\n",
        "train_data.target.value_counts().plot(kind = 'bar')"
      ],
      "execution_count": null,
      "outputs": [
        {
          "output_type": "execute_result",
          "data": {
            "text/plain": [
              "<Axes: xlabel='target'>"
            ]
          },
          "metadata": {},
          "execution_count": 86
        },
        {
          "output_type": "display_data",
          "data": {
            "text/plain": [
              "<Figure size 640x480 with 1 Axes>"
            ],
            "image/png": "[encoded data removed]"
          },
          "metadata": {}
        }
      ]
    },
    {
      "cell_type": "markdown",
      "metadata": {
        "id": "XBDd5Mk7BP6W"
      },
      "source": [
        "We see that there is a balanaced distribution of the target levels."
      ]
    },
    {
      "cell_type": "code",
      "metadata": {
        "colab": {
          "base_uri": "https://localhost:8080/"
        },
        "id": "q6Qtbh3VoVlq",
        "outputId": "65fac530-92ad-4201-f805-93450da055e6"
      },
      "source": [
        "# checking some of the positive disaster tweets\n",
        "for i in range(5):\n",
        "  print(train_data[train_data.target==1]['text'].iloc[i])"
      ],
      "execution_count": null,
      "outputs": [
        {
          "output_type": "stream",
          "name": "stdout",
          "text": [
            "Our Deeds are the Reason of this #earthquake May ALLAH Forgive us all\n",
            "Forest fire near La Ronge Sask. Canada\n",
            "All residents asked to 'shelter in place' are being notified by officers. No other evacuation or shelter in place orders are expected\n",
            "13,000 people receive #wildfires evacuation orders in California \n",
            "Just got sent this photo from Ruby #Alaska as smoke from #wildfires pours into a school \n"
          ]
        }
      ]
    },
    {
      "cell_type": "code",
      "metadata": {
        "colab": {
          "base_uri": "https://localhost:8080/"
        },
        "id": "pjRAJH0WoVM_",
        "outputId": "70ffe60d-bae0-480f-d24c-a4da1406ece4"
      },
      "source": [
        "# checking some of the neagtive disaster tweets\n",
        "for i in range(5):\n",
        "  print(train_data[train_data.target==0]['text'].iloc[i])"
      ],
      "execution_count": null,
      "outputs": [
        {
          "output_type": "stream",
          "name": "stdout",
          "text": [
            "What's up man?\n",
            "I love fruits\n",
            "Summer is lovely\n",
            "My car is so fast\n",
            "What a goooooooaaaaaal!!!!!!\n"
          ]
        }
      ]
    },
    {
      "cell_type": "code",
      "metadata": {
        "id": "zMKS5NBOBIje"
      },
      "source": [
        "# Exploring the text lengths\n",
        "textlen = train_data['text'].apply(lambda x: len(x.split()))"
      ],
      "execution_count": null,
      "outputs": []
    },
    {
      "cell_type": "code",
      "metadata": {
        "colab": {
          "base_uri": "https://localhost:8080/",
          "height": 445
        },
        "id": "ZcFESdHhBcL7",
        "outputId": "3d6f2d1d-2b68-4627-f217-ee8bcad68b86"
      },
      "source": [
        "# vsualize the text length\n",
        "import seaborn as sns\n",
        "plt.figure(figsize=(8,5))\n",
        "plt.hist(textlen, edgecolor = \"black\");"
      ],
      "execution_count": null,
      "outputs": [
        {
          "output_type": "display_data",
          "data": {
            "text/plain": [
              "<Figure size 800x500 with 1 Axes>"
            ],
            "image/png": "[encoded data removed]"
          },
          "metadata": {}
        }
      ]
    },
    {
      "cell_type": "code",
      "metadata": {
        "id": "zqWC8wulB8uP"
      },
      "source": [
        "SEQ_LEN = 30"
      ],
      "execution_count": null,
      "outputs": []
    },
    {
      "cell_type": "markdown",
      "metadata": {
        "id": "_CuranppEw6K"
      },
      "source": [
        "### **Fine-Tuning BERT and Downloading Tokenizer and Model**"
      ]
    },
    {
      "cell_type": "code",
      "metadata": {
        "id": "zIwtKn3lE0HW"
      },
      "source": [
        "# Import the BertTokenizer from the transformers library\n",
        "# The BertTokenizer is used for tokenizing text data before feeding it into a BERT model\n",
        "from transformers import BertTokenizer\n",
        "\n",
        "# Import the AutoTokenizer from the transformers library\n",
        "# AutoTokenizer automatically selects the appropriate tokenizer based on the model you choose\n",
        "# It is useful when you are working with multiple transformer models\n",
        "from transformers import AutoTokenizer\n",
        "\n",
        "# Import TensorFlow (tf) library\n",
        "# TensorFlow is a popular machine learning framework that is commonly used for training and deploying models,\n",
        "# especially deep learning models like BERT and other transformer-based models\n",
        "import tensorflow as tf\n",
        "\n",
        "# Import the TFAutoModel from the transformers library\n",
        "# TFAutoModel automatically loads a TensorFlow model architecture based on the model you specify\n",
        "# This is useful for working with transformer models in TensorFlow, such as BERT, GPT, etc.\n",
        "from transformers import TFAutoModelForSequenceClassification"
      ],
      "execution_count": null,
      "outputs": []
    },
    {
      "cell_type": "code",
      "metadata": {
        "id": "jq2Na38KpMN9",
        "colab": {
          "base_uri": "https://localhost:8080/"
        },
        "outputId": "2b7fc9af-dc23-4060-f7cd-793f3b134d36"
      },
      "source": [
        "# Load the pre-trained BERT tokenizer using the 'bert-base-uncased' model\n",
        "# The tokenizer converts input text into a format (tokens) that can be processed by the BERT model\n",
        "# 'do_lower_case=True' ensures that all input text is converted to lowercase, as BERT's 'bert-base-uncased' model is case-insensitive\n",
        "tokenizer = BertTokenizer.from_pretrained('bert-base-uncased', do_lower_case=True)\n",
        "\n",
        "# Load the pre-trained BERT model using the TFAutoModel class from Hugging Face's transformers library\n",
        "# The 'bert-base-uncased' model is a version of BERT that has been trained on uncased text (i.e., lowercase only)\n",
        "# TFAutoModel automatically loads the model architecture suitable for TensorFlow\n",
        "Model = TFAutoModelForSequenceClassification.from_pretrained('bert-base-uncased', num_labels=2)\n"
      ],
      "execution_count": null,
      "outputs": [
        {
          "output_type": "stream",
          "name": "stderr",
          "text": [
            "All PyTorch model weights were used when initializing TFBertForSequenceClassification.\n",
            "\n",
            "Some weights or buffers of the TF 2.0 model TFBertForSequenceClassification were not initialized from the PyTorch model and are newly initialized: ['classifier.weight', 'classifier.bias']\n",
            "You should probably TRAIN this model on a down-stream task to be able to use it for predictions and inference.\n"
          ]
        }
      ]
    },
    {
      "cell_type": "markdown",
      "metadata": {
        "id": "cHlY89FsHIwr"
      },
      "source": [
        "### Text Cleaning Before Tokenization\n",
        "\n",
        "Before we proceed with tokenizing the text for model input, it's often beneficial to perform some text cleaning. This helps remove irrelevant information such as usernames, URLs, and special characters that may not be useful for the task at hand. For example, in the context of processing tweet text, we can remove:"
      ]
    },
    {
      "cell_type": "code",
      "metadata": {
        "id": "k68cUTznGwKz"
      },
      "source": [
        "# Function to preprocess text by handling placeholders such as usernames and URLs\n",
        "# The function performs text cleaning, such as removing usernames, URLs, and hashtags\n",
        "def preprocess(text):\n",
        "    new_text = []  # Initialize an empty list to hold the cleaned text tokens\n",
        "\n",
        "    # Loop through each word in the input text\n",
        "    for t in text.split(\" \"):\n",
        "        # If the word starts with '@' (username) and its length is greater than 1, replace it with an empty string\n",
        "        # This removes any usernames from the text\n",
        "        t = '' if t.startswith('@') and len(t) > 1 else t\n",
        "\n",
        "        # If the word starts with 'http' (indicating a URL), replace it with an empty string\n",
        "        # This removes any URLs from the text\n",
        "        t = '' if t.startswith('http') else t\n",
        "\n",
        "        # Remove hashtags by replacing '#' with an empty string\n",
        "        t = t.replace(\"#\", \"\")\n",
        "\n",
        "        # Append the processed token (word) to the new_text list, converting it to lowercase\n",
        "        new_text.append(t.lower())\n",
        "\n",
        "    # Join the cleaned tokens back into a single string, remove extra spaces, and return the final preprocessed text\n",
        "    return \" \".join(new_text).strip().replace(\"  \", \" \")\n"
      ],
      "execution_count": null,
      "outputs": []
    },
    {
      "cell_type": "code",
      "metadata": {
        "colab": {
          "base_uri": "https://localhost:8080/",
          "height": 206
        },
        "id": "xegKSyaaG79v",
        "outputId": "2b70988c-44bd-441f-ea0e-5dda67d0c9a2"
      },
      "source": [
        "# Apply the 'preprocess' function to each entry in the 'text' column of the training dataset\n",
        "# This will clean the tweet text by removing usernames, URLs, and hashtags\n",
        "train_data['text'] = train_data['text'].apply(preprocess)\n",
        "\n",
        "# Display the first few rows of the training dataset after preprocessing to inspect the changes\n",
        "train_data.head()  # Shows the first 5 rows of the 'train_data' DataFrame with the cleaned text"
      ],
      "execution_count": null,
      "outputs": [
        {
          "output_type": "execute_result",
          "data": {
            "text/plain": [
              "   id keyword location                                               text  \\\n",
              "0   1     NaN      NaN  our deeds are the reason of this earthquake ma...   \n",
              "1   4     NaN      NaN             forest fire near la ronge sask. canada   \n",
              "2   5     NaN      NaN  all residents asked to 'shelter in place' are ...   \n",
              "3   6     NaN      NaN  13,000 people receive wildfires evacuation ord...   \n",
              "4   7     NaN      NaN  just got sent this photo from ruby alaska as s...   \n",
              "\n",
              "   target  \n",
              "0       1  \n",
              "1       1  \n",
              "2       1  \n",
              "3       1  \n",
              "4       1  "
            ],
            "text/html": [
              "\n",
              "  <div id=\"df-4cba9e78-f9f3-451d-a91a-d556c540575f\" class=\"colab-df-container\">\n",
              "    <div>\n",
              "<style scoped>\n",
              "    .dataframe tbody tr th:only-of-type {\n",
              "        vertical-align: middle;\n",
              "    }\n",
              "\n",
              "    .dataframe tbody tr th {\n",
              "        vertical-align: top;\n",
              "    }\n",
              "\n",
              "    .dataframe thead th {\n",
              "        text-align: right;\n",
              "    }\n",
              "</style>\n",
              "<table border=\"1\" class=\"dataframe\">\n",
              "  <thead>\n",
              "    <tr style=\"text-align: right;\">\n",
              "      <th></th>\n",
              "      <th>id</th>\n",
              "      <th>keyword</th>\n",
              "      <th>location</th>\n",
              "      <th>text</th>\n",
              "      <th>target</th>\n",
              "    </tr>\n",
              "  </thead>\n",
              "  <tbody>\n",
              "    <tr>\n",
              "      <th>0</th>\n",
              "      <td>1</td>\n",
              "      <td>NaN</td>\n",
              "      <td>NaN</td>\n",
              "      <td>our deeds are the reason of this earthquake ma...</td>\n",
              "      <td>1</td>\n",
              "    </tr>\n",
              "    <tr>\n",
              "      <th>1</th>\n",
              "      <td>4</td>\n",
              "      <td>NaN</td>\n",
              "      <td>NaN</td>\n",
              "      <td>forest fire near la ronge sask. canada</td>\n",
              "      <td>1</td>\n",
              "    </tr>\n",
              "    <tr>\n",
              "      <th>2</th>\n",
              "      <td>5</td>\n",
              "      <td>NaN</td>\n",
              "      <td>NaN</td>\n",
              "      <td>all residents asked to 'shelter in place' are ...</td>\n",
              "      <td>1</td>\n",
              "    </tr>\n",
              "    <tr>\n",
              "      <th>3</th>\n",
              "      <td>6</td>\n",
              "      <td>NaN</td>\n",
              "      <td>NaN</td>\n",
              "      <td>13,000 people receive wildfires evacuation ord...</td>\n",
              "      <td>1</td>\n",
              "    </tr>\n",
              "    <tr>\n",
              "      <th>4</th>\n",
              "      <td>7</td>\n",
              "      <td>NaN</td>\n",
              "      <td>NaN</td>\n",
              "      <td>just got sent this photo from ruby alaska as s...</td>\n",
              "      <td>1</td>\n",
              "    </tr>\n",
              "  </tbody>\n",
              "</table>\n",
              "</div>\n",
              "    <div class=\"colab-df-buttons\">\n",
              "\n",
              "  <div class=\"colab-df-container\">\n",
              "    <button class=\"colab-df-convert\" onclick=\"convertToInteractive('df-4cba9e78-f9f3-451d-a91a-d556c540575f')\"\n",
              "            title=\"Convert this dataframe to an interactive table.\"\n",
              "            style=\"display:none;\">\n",
              "\n",
              "  <svg xmlns=\"http://www.w3.org/2000/svg\" height=\"24px\" viewBox=\"0 -960 960 960\">\n",
              "    <path d=\"M120-120v-720h720v720H120Zm60-500h600v-160H180v160Zm220 220h160v-160H400v160Zm0 220h160v-160H400v160ZM180-400h160v-160H180v160Zm440 0h160v-160H620v160ZM180-180h160v-160H180v160Zm440 0h160v-160H620v160Z\"/>\n",
              "  </svg>\n",
              "    </button>\n",
              "\n",
              "  <style>\n",
              "    .colab-df-container {\n",
              "      display:flex;\n",
              "      gap: 12px;\n",
              "    }\n",
              "\n",
              "    .colab-df-convert {\n",
              "      background-color: #E8F0FE;\n",
              "      border: none;\n",
              "      border-radius: 50%;\n",
              "      cursor: pointer;\n",
              "      display: none;\n",
              "      fill: #1967D2;\n",
              "      height: 32px;\n",
              "      padding: 0 0 0 0;\n",
              "      width: 32px;\n",
              "    }\n",
              "\n",
              "    .colab-df-convert:hover {\n",
              "      background-color: #E2EBFA;\n",
              "      box-shadow: 0px 1px 2px rgba(60, 64, 67, 0.3), 0px 1px 3px 1px rgba(60, 64, 67, 0.15);\n",
              "      fill: #174EA6;\n",
              "    }\n",
              "\n",
              "    .colab-df-buttons div {\n",
              "      margin-bottom: 4px;\n",
              "    }\n",
              "\n",
              "    [theme=dark] .colab-df-convert {\n",
              "      background-color: #3B4455;\n",
              "      fill: #D2E3FC;\n",
              "    }\n",
              "\n",
              "    [theme=dark] .colab-df-convert:hover {\n",
              "      background-color: #434B5C;\n",
              "      box-shadow: 0px 1px 3px 1px rgba(0, 0, 0, 0.15);\n",
              "      filter: drop-shadow(0px 1px 2px rgba(0, 0, 0, 0.3));\n",
              "      fill: #FFFFFF;\n",
              "    }\n",
              "  </style>\n",
              "\n",
              "    <script>\n",
              "      const buttonEl =\n",
              "        document.querySelector('#df-4cba9e78-f9f3-451d-a91a-d556c540575f button.colab-df-convert');\n",
              "      buttonEl.style.display =\n",
              "        google.colab.kernel.accessAllowed ? 'block' : 'none';\n",
              "\n",
              "      async function convertToInteractive(key) {\n",
              "        const element = document.querySelector('#df-4cba9e78-f9f3-451d-a91a-d556c540575f');\n",
              "        const dataTable =\n",
              "          await google.colab.kernel.invokeFunction('convertToInteractive',\n",
              "                                                    [key], {});\n",
              "        if (!dataTable) return;\n",
              "\n",
              "        const docLinkHtml = 'Like what you see? Visit the ' +\n",
              "          '<a target=\"_blank\" href=https://colab.research.google.com/notebooks/data_table.ipynb>data table notebook</a>'\n",
              "          + ' to learn more about interactive tables.';\n",
              "        element.innerHTML = '';\n",
              "        dataTable['output_type'] = 'display_data';\n",
              "        await google.colab.output.renderOutput(dataTable, element);\n",
              "        const docLink = document.createElement('div');\n",
              "        docLink.innerHTML = docLinkHtml;\n",
              "        element.appendChild(docLink);\n",
              "      }\n",
              "    </script>\n",
              "  </div>\n",
              "\n",
              "\n",
              "<div id=\"df-361d8e67-cbec-4031-a4fc-90db2be57dfc\">\n",
              "  <button class=\"colab-df-quickchart\" onclick=\"quickchart('df-361d8e67-cbec-4031-a4fc-90db2be57dfc')\"\n",
              "            title=\"Suggest charts\"\n",
              "            style=\"display:none;\">\n",
              "\n",
              "<svg xmlns=\"http://www.w3.org/2000/svg\" height=\"24px\"viewBox=\"0 0 24 24\"\n",
              "     width=\"24px\">\n",
              "    <g>\n",
              "        <path d=\"M19 3H5c-1.1 0-2 .9-2 2v14c0 1.1.9 2 2 2h14c1.1 0 2-.9 2-2V5c0-1.1-.9-2-2-2zM9 17H7v-7h2v7zm4 0h-2V7h2v10zm4 0h-2v-4h2v4z\"/>\n",
              "    </g>\n",
              "</svg>\n",
              "  </button>\n",
              "\n",
              "<style>\n",
              "  .colab-df-quickchart {\n",
              "      --bg-color: #E8F0FE;\n",
              "      --fill-color: #1967D2;\n",
              "      --hover-bg-color: #E2EBFA;\n",
              "      --hover-fill-color: #174EA6;\n",
              "      --disabled-fill-color: #AAA;\n",
              "      --disabled-bg-color: #DDD;\n",
              "  }\n",
              "\n",
              "  [theme=dark] .colab-df-quickchart {\n",
              "      --bg-color: #3B4455;\n",
              "      --fill-color: #D2E3FC;\n",
              "      --hover-bg-color: #434B5C;\n",
              "      --hover-fill-color: #FFFFFF;\n",
              "      --disabled-bg-color: #3B4455;\n",
              "      --disabled-fill-color: #666;\n",
              "  }\n",
              "\n",
              "  .colab-df-quickchart {\n",
              "    background-color: var(--bg-color);\n",
              "    border: none;\n",
              "    border-radius: 50%;\n",
              "    cursor: pointer;\n",
              "    display: none;\n",
              "    fill: var(--fill-color);\n",
              "    height: 32px;\n",
              "    padding: 0;\n",
              "    width: 32px;\n",
              "  }\n",
              "\n",
              "  .colab-df-quickchart:hover {\n",
              "    background-color: var(--hover-bg-color);\n",
              "    box-shadow: 0 1px 2px rgba(60, 64, 67, 0.3), 0 1px 3px 1px rgba(60, 64, 67, 0.15);\n",
              "    fill: var(--button-hover-fill-color);\n",
              "  }\n",
              "\n",
              "  .colab-df-quickchart-complete:disabled,\n",
              "  .colab-df-quickchart-complete:disabled:hover {\n",
              "    background-color: var(--disabled-bg-color);\n",
              "    fill: var(--disabled-fill-color);\n",
              "    box-shadow: none;\n",
              "  }\n",
              "\n",
              "  .colab-df-spinner {\n",
              "    border: 2px solid var(--fill-color);\n",
              "    border-color: transparent;\n",
              "    border-bottom-color: var(--fill-color);\n",
              "    animation:\n",
              "      spin 1s steps(1) infinite;\n",
              "  }\n",
              "\n",
              "  @keyframes spin {\n",
              "    0% {\n",
              "      border-color: transparent;\n",
              "      border-bottom-color: var(--fill-color);\n",
              "      border-left-color: var(--fill-color);\n",
              "    }\n",
              "    20% {\n",
              "      border-color: transparent;\n",
              "      border-left-color: var(--fill-color);\n",
              "      border-top-color: var(--fill-color);\n",
              "    }\n",
              "    30% {\n",
              "      border-color: transparent;\n",
              "      border-left-color: var(--fill-color);\n",
              "      border-top-color: var(--fill-color);\n",
              "      border-right-color: var(--fill-color);\n",
              "    }\n",
              "    40% {\n",
              "      border-color: transparent;\n",
              "      border-right-color: var(--fill-color);\n",
              "      border-top-color: var(--fill-color);\n",
              "    }\n",
              "    60% {\n",
              "      border-color: transparent;\n",
              "      border-right-color: var(--fill-color);\n",
              "    }\n",
              "    80% {\n",
              "      border-color: transparent;\n",
              "      border-right-color: var(--fill-color);\n",
              "      border-bottom-color: var(--fill-color);\n",
              "    }\n",
              "    90% {\n",
              "      border-color: transparent;\n",
              "      border-bottom-color: var(--fill-color);\n",
              "    }\n",
              "  }\n",
              "</style>\n",
              "\n",
              "  <script>\n",
              "    async function quickchart(key) {\n",
              "      const quickchartButtonEl =\n",
              "        document.querySelector('#' + key + ' button');\n",
              "      quickchartButtonEl.disabled = true;  // To prevent multiple clicks.\n",
              "      quickchartButtonEl.classList.add('colab-df-spinner');\n",
              "      try {\n",
              "        const charts = await google.colab.kernel.invokeFunction(\n",
              "            'suggestCharts', [key], {});\n",
              "      } catch (error) {\n",
              "        console.error('Error during call to suggestCharts:', error);\n",
              "      }\n",
              "      quickchartButtonEl.classList.remove('colab-df-spinner');\n",
              "      quickchartButtonEl.classList.add('colab-df-quickchart-complete');\n",
              "    }\n",
              "    (() => {\n",
              "      let quickchartButtonEl =\n",
              "        document.querySelector('#df-361d8e67-cbec-4031-a4fc-90db2be57dfc button');\n",
              "      quickchartButtonEl.style.display =\n",
              "        google.colab.kernel.accessAllowed ? 'block' : 'none';\n",
              "    })();\n",
              "  </script>\n",
              "</div>\n",
              "\n",
              "    </div>\n",
              "  </div>\n"
            ],
            "application/vnd.google.colaboratory.intrinsic+json": {
              "type": "dataframe",
              "variable_name": "train_data",
              "summary": "{\n  \"name\": \"train_data\",\n  \"rows\": 7613,\n  \"fields\": [\n    {\n      \"column\": \"id\",\n      \"properties\": {\n        \"dtype\": \"number\",\n        \"std\": 3137,\n        \"min\": 1,\n        \"max\": 10873,\n        \"num_unique_values\": 7613,\n        \"samples\": [\n          3796,\n          3185,\n          7769\n        ],\n        \"semantic_type\": \"\",\n        \"description\": \"\"\n      }\n    },\n    {\n      \"column\": \"keyword\",\n      \"properties\": {\n        \"dtype\": \"category\",\n        \"num_unique_values\": 221,\n        \"samples\": [\n          \"injury\",\n          \"nuclear%20reactor\",\n          \"engulfed\"\n        ],\n        \"semantic_type\": \"\",\n        \"description\": \"\"\n      }\n    },\n    {\n      \"column\": \"location\",\n      \"properties\": {\n        \"dtype\": \"category\",\n        \"num_unique_values\": 3341,\n        \"samples\": [\n          \"Oklahoma\",\n          \"Starling City\",\n          \"Trinidad and Tobago\"\n        ],\n        \"semantic_type\": \"\",\n        \"description\": \"\"\n      }\n    },\n    {\n      \"column\": \"text\",\n      \"properties\": {\n        \"dtype\": \"string\",\n        \"num_unique_values\": 6917,\n        \"samples\": [\n          \"firepower in the lab [electronic resource] : automation in the fight against infectious diseases and bioterrorism /\\u0089\\u00fb_\",\n          \"stuart broad takes eight before joe root runs riot against aussies: stuart broad took career-best figures of 8...\",\n          \"whereas jez will obliterate the national debt - and give lots of new benefits - by simply printing money! genius!\"\n        ],\n        \"semantic_type\": \"\",\n        \"description\": \"\"\n      }\n    },\n    {\n      \"column\": \"target\",\n      \"properties\": {\n        \"dtype\": \"number\",\n        \"std\": 0,\n        \"min\": 0,\n        \"max\": 1,\n        \"num_unique_values\": 2,\n        \"samples\": [\n          0,\n          1\n        ],\n        \"semantic_type\": \"\",\n        \"description\": \"\"\n      }\n    }\n  ]\n}"
            }
          },
          "metadata": {},
          "execution_count": 95
        }
      ]
    },
    {
      "cell_type": "markdown",
      "metadata": {
        "id": "Lq2eKdq-myGD"
      },
      "source": [
        "###  **Encoding the training data using the tokenizer**"
      ]
    },
    {
      "cell_type": "code",
      "metadata": {
        "id": "A-C3BevIJP2R"
      },
      "source": [
        "# The 'text' column from the training dataset is tokenized into numerical representations suitable for the model\n",
        "train_encoded_inputs = tokenizer(\n",
        "    train_data['text'].tolist(),  # Convert the 'text' column into a list of text samples\n",
        "    add_special_tokens=True,  # Add special tokens like [CLS] and [SEP] required by BERT\n",
        "    padding='max_length',  # Pad the sequences to the maximum length (SEQ_LEN) to ensure uniform input size\n",
        "    truncation=True,  # Truncate sequences that are longer than the maximum length (SEQ_LEN)\n",
        "    max_length=SEQ_LEN,  # Set the maximum sequence length for the tokenized input\n",
        "    return_token_type_ids=False,  # Exclude token type IDs, as they are not needed for single sequence tasks\n",
        "    return_tensors='tf'  # Return the tokenized input as TensorFlow tensors\n",
        ")"
      ],
      "execution_count": null,
      "outputs": []
    },
    {
      "cell_type": "code",
      "metadata": {
        "colab": {
          "base_uri": "https://localhost:8080/"
        },
        "id": "L1zwEX2vKXD6",
        "outputId": "5686328d-daf9-4054-e1db-621814f0f6af"
      },
      "source": [
        "train_encoded_inputs"
      ],
      "execution_count": null,
      "outputs": [
        {
          "output_type": "execute_result",
          "data": {
            "text/plain": [
              "{'input_ids': <tf.Tensor: shape=(7613, 30), dtype=int32, numpy=\n",
              "array([[  101,  2256, 15616, ...,     0,     0,     0],\n",
              "       [  101,  3224,  2543, ...,     0,     0,     0],\n",
              "       [  101,  2035,  3901, ...,     0,     0,     0],\n",
              "       ...,\n",
              "       [  101, 23290,  1012, ...,     0,     0,     0],\n",
              "       [  101,  2610, 11538, ...,  1012,   102,     0],\n",
              "       [  101,  1996,  6745, ...,     0,     0,     0]], dtype=int32)>, 'attention_mask': <tf.Tensor: shape=(7613, 30), dtype=int32, numpy=\n",
              "array([[1, 1, 1, ..., 0, 0, 0],\n",
              "       [1, 1, 1, ..., 0, 0, 0],\n",
              "       [1, 1, 1, ..., 0, 0, 0],\n",
              "       ...,\n",
              "       [1, 1, 1, ..., 0, 0, 0],\n",
              "       [1, 1, 1, ..., 1, 1, 0],\n",
              "       [1, 1, 1, ..., 0, 0, 0]], dtype=int32)>}"
            ]
          },
          "metadata": {},
          "execution_count": 97
        }
      ]
    },
    {
      "cell_type": "code",
      "metadata": {
        "id": "9xdrlomFk5-W"
      },
      "source": [
        "# Create a TensorFlow dataset from the tokenized inputs and corresponding labels (targets)\n",
        "# The `from_tensor_slices` method creates a dataset where each element is a tuple of tokenized input and the label\n",
        "train_dataset = tf.data.Dataset.from_tensor_slices(\n",
        "    (train_encoded_inputs, train_data['target'].values)  # Pair the tokenized inputs with their corresponding target labels\n",
        ")"
      ],
      "execution_count": null,
      "outputs": []
    },
    {
      "cell_type": "code",
      "source": [
        "train_dataset"
      ],
      "metadata": {
        "colab": {
          "base_uri": "https://localhost:8080/"
        },
        "id": "O96oG7LERCWV",
        "outputId": "fb0c44be-9da5-4b63-ef22-293b272427a5"
      },
      "execution_count": null,
      "outputs": [
        {
          "output_type": "execute_result",
          "data": {
            "text/plain": [
              "<_TensorSliceDataset element_spec=({'input_ids': TensorSpec(shape=(30,), dtype=tf.int32, name=None), 'attention_mask': TensorSpec(shape=(30,), dtype=tf.int32, name=None)}, TensorSpec(shape=(), dtype=tf.int64, name=None))>"
            ]
          },
          "metadata": {},
          "execution_count": 99
        }
      ]
    },
    {
      "cell_type": "code",
      "metadata": {
        "id": "LzeoWqTuyYdQ"
      },
      "source": [
        "# Function to format the data as required by the BERT model\n",
        "# This function prepares the inputs in the specific format BERT expects (input_ids and attention_mask)\n",
        "def map_bert(inputs, labels):\n",
        "    # Extract 'input_ids' and 'attention_mask' from the tokenized inputs\n",
        "    # These are the two primary inputs BERT requires:\n",
        "    # - 'input_ids' are the token IDs representing the text\n",
        "    # - 'attention_mask' is a binary mask that tells the model which tokens should be attended to\n",
        "    inputs = {\n",
        "        'input_ids': inputs['input_ids'],  # The tokenized input IDs\n",
        "        'attention_mask': inputs['attention_mask']  # The attention mask\n",
        "    }\n",
        "\n",
        "    # Return the formatted inputs and the corresponding labels\n",
        "    return inputs, labels\n"
      ],
      "execution_count": null,
      "outputs": []
    },
    {
      "cell_type": "code",
      "metadata": {
        "id": "stXmyneoyYas"
      },
      "source": [
        "# Apply the 'map_bert' function to format the dataset as required by the BERT model\n",
        "# This will transform the dataset by formatting the inputs (token IDs and attention masks) for the BERT model\n",
        "train_dataset = train_dataset.map(map_bert)"
      ],
      "execution_count": null,
      "outputs": []
    },
    {
      "cell_type": "code",
      "metadata": {
        "colab": {
          "base_uri": "https://localhost:8080/"
        },
        "id": "If8RQM_HKrBk",
        "outputId": "f961e761-bb47-448b-f77c-2b1cae9c53ce"
      },
      "source": [
        "# Iterate over the first two elements of the training dataset and print them\n",
        "# 'train_dataset.take(2)' fetches the first 2 batches from the dataset\n",
        "# Each batch contains the tokenized inputs (input_ids, attention_mask) and corresponding labels\n",
        "for t in train_dataset.take(2):\n",
        "    print(t)  # Print each batch of data (inputs and labels) for inspection"
      ],
      "execution_count": null,
      "outputs": [
        {
          "output_type": "stream",
          "name": "stdout",
          "text": [
            "({'input_ids': <tf.Tensor: shape=(30,), dtype=int32, numpy=\n",
            "array([  101,  2256, 15616,  2024,  1996,  3114,  1997,  2023,  8372,\n",
            "        2089, 16455,  9641,  2149,  2035,   102,     0,     0,     0,\n",
            "           0,     0,     0,     0,     0,     0,     0,     0,     0,\n",
            "           0,     0,     0], dtype=int32)>, 'attention_mask': <tf.Tensor: shape=(30,), dtype=int32, numpy=\n",
            "array([1, 1, 1, 1, 1, 1, 1, 1, 1, 1, 1, 1, 1, 1, 1, 0, 0, 0, 0, 0, 0, 0,\n",
            "       0, 0, 0, 0, 0, 0, 0, 0], dtype=int32)>}, <tf.Tensor: shape=(), dtype=int64, numpy=1>)\n",
            "({'input_ids': <tf.Tensor: shape=(30,), dtype=int32, numpy=\n",
            "array([  101,  3224,  2543,  2379,  2474,  6902,  3351, 21871,  2243,\n",
            "        1012,  2710,   102,     0,     0,     0,     0,     0,     0,\n",
            "           0,     0,     0,     0,     0,     0,     0,     0,     0,\n",
            "           0,     0,     0], dtype=int32)>, 'attention_mask': <tf.Tensor: shape=(30,), dtype=int32, numpy=\n",
            "array([1, 1, 1, 1, 1, 1, 1, 1, 1, 1, 1, 1, 0, 0, 0, 0, 0, 0, 0, 0, 0, 0,\n",
            "       0, 0, 0, 0, 0, 0, 0, 0], dtype=int32)>}, <tf.Tensor: shape=(), dtype=int64, numpy=1>)\n"
          ]
        }
      ]
    },
    {
      "cell_type": "markdown",
      "metadata": {
        "id": "NfWrWzPDK4HZ"
      },
      "source": [
        "### Creating Train and Test Split\n",
        "\n",
        "Before training a machine learning model, it's crucial to split the available dataset into training and testing subsets. The training data is used to train the model, while the test data is used to evaluate the model's performance on unseen data.\n"
      ]
    },
    {
      "cell_type": "code",
      "source": [
        "# Shuffle the dataset and batch it for training\n",
        "# 'shuffle(100000)' shuffles the dataset with a buffer size of 100,000 elements,\n",
        "# ensuring the data is randomly mixed before batching for better training performance.\n",
        "# 'batch(64)' groups the data into batches of 64 samples, which helps in efficient training.\n",
        "dataset = train_dataset.shuffle(100000).batch(64)"
      ],
      "metadata": {
        "id": "m5S8rFc9SIyf"
      },
      "execution_count": null,
      "outputs": []
    },
    {
      "cell_type": "code",
      "metadata": {
        "colab": {
          "base_uri": "https://localhost:8080/"
        },
        "id": "qFPHCdZjLemW",
        "outputId": "538e7bdd-1b34-43fe-cf27-9eca72291a09"
      },
      "source": [
        "# Calculate the length of the dataset (total number of batches)\n",
        "# The length is determined by the number of batches in the dataset\n",
        "# This helps to understand how many batches will be processed during training\n",
        "DS_LEN = len(dataset)\n",
        "\n",
        "# Print the total number of batches in the dataset\n",
        "DS_LEN"
      ],
      "execution_count": null,
      "outputs": [
        {
          "output_type": "execute_result",
          "data": {
            "text/plain": [
              "119"
            ]
          },
          "metadata": {},
          "execution_count": 104
        }
      ]
    },
    {
      "cell_type": "code",
      "metadata": {
        "id": "CbMbmJLeLq1K"
      },
      "source": [
        "# Split the dataset into training and validation sets\n",
        "# We take 80% of the dataset for training and 20% for validation\n",
        "\n",
        "SPLIT = 0.8  # Define the split ratio: 80% for training, 20% for validation\n",
        "\n",
        "# 'take()' selects the first 80% of the dataset for training\n",
        "train_ds = dataset.take(round(DS_LEN * SPLIT))\n",
        "\n",
        "# 'skip()' skips the first 80% of the dataset, leaving the remaining 20% for validation\n",
        "val_ds = dataset.skip(round(DS_LEN * SPLIT))\n"
      ],
      "execution_count": null,
      "outputs": []
    },
    {
      "cell_type": "markdown",
      "metadata": {
        "id": "vB47QL16MTZE"
      },
      "source": [
        "### **Defining the Model Architecture**\n"
      ]
    },
    {
      "cell_type": "code",
      "metadata": {
        "id": "387VrYOQMuyf",
        "colab": {
          "base_uri": "https://localhost:8080/"
        },
        "outputId": "ce0e329b-c3ae-427f-e8b0-ac16080474bc"
      },
      "source": [
        "from transformers import TFAutoModelForSequenceClassification\n",
        "import tensorflow as tf\n",
        "import numpy as np\n",
        "\n",
        "# Define the number of classes (adjust this as per your task)\n",
        "n_classes = 2  # Change this to the number of unique classes in your dataset\n",
        "\n",
        "# Input layers for the model\n",
        "input_ids = tf.keras.layers.Input(shape=(SEQ_LEN,), dtype=np.int32, name='input_ids')  # Input for token IDs\n",
        "mask = tf.keras.layers.Input(shape=(SEQ_LEN,), dtype=np.int32, name='attention_mask')  # Input for attention mask\n",
        "\n",
        "# Load the pre-trained model for sequence classification with output_hidden_states=True\n",
        "model = TFAutoModelForSequenceClassification.from_pretrained(\n",
        "    'bert-base-uncased',\n",
        "    num_labels=n_classes,\n",
        "    output_hidden_states=True  # This will return the hidden states\n",
        ")\n",
        "\n",
        "# Get the model's outputs, which now include hidden states\n",
        "outputs = model([input_ids, mask])\n",
        "\n",
        "# The outputs object includes the logits and hidden states:\n",
        "logits = outputs.logits  # The classification logits\n",
        "hidden_states = outputs.hidden_states  # A tuple of all hidden states from the transformer\n",
        "\n",
        "# The last hidden state is the last item in hidden_states (which has shape [batch_size, seq_len, hidden_size])\n",
        "last_hidden_state = hidden_states[-1]  # This is the tensor with shape [batch_size, seq_len, hidden_size]\n",
        "\n",
        "# Extract the embeddings corresponding to the [CLS] token (first token in the sequence)\n",
        "cls_token = last_hidden_state[:, 0, :]  # Extract the embeddings of the [CLS] token\n",
        "\n",
        "# Add additional Keras layers:\n",
        "x = tf.keras.layers.BatchNormalization()(cls_token)  # Normalize the output of the [CLS] token\n",
        "\n",
        "# Fully connected layers:\n",
        "x = tf.keras.layers.Dense(128, activation='relu')(x)\n",
        "x = tf.keras.layers.Dropout(0.2)(x)\n",
        "x = tf.keras.layers.Dense(32, activation='relu')(x)\n",
        "\n",
        "# Output layer: A sigmoid activation function to predict a binary class (0 or 1)\n",
        "y = tf.keras.layers.Dense(1, activation='sigmoid')(x)\n",
        "\n",
        "# Create the final Keras model, specifying the inputs (input_ids and mask) and output (y)\n",
        "model = tf.keras.Model(inputs=[input_ids, mask], outputs=y)\n",
        "\n",
        "# Print the model summary\n",
        "model.summary()"
      ],
      "execution_count": 110,
      "outputs": [
        {
          "output_type": "stream",
          "name": "stderr",
          "text": [
            "All PyTorch model weights were used when initializing TFBertForSequenceClassification.\n",
            "\n",
            "Some weights or buffers of the TF 2.0 model TFBertForSequenceClassification were not initialized from the PyTorch model and are newly initialized: ['classifier.weight', 'classifier.bias']\n",
            "You should probably TRAIN this model on a down-stream task to be able to use it for predictions and inference.\n"
          ]
        },
        {
          "output_type": "stream",
          "name": "stdout",
          "text": [
            "Model: \"model_2\"\n",
            "__________________________________________________________________________________________________\n",
            " Layer (type)                Output Shape                 Param #   Connected to                  \n",
            "==================================================================================================\n",
            " input_ids (InputLayer)      [(None, 30)]                 0         []                            \n",
            "                                                                                                  \n",
            " attention_mask (InputLayer  [(None, 30)]                 0         []                            \n",
            " )                                                                                                \n",
            "                                                                                                  \n",
            " tf_bert_for_sequence_class  TFSequenceClassifierOutput   1094837   ['input_ids[0][0]',           \n",
            " ification_5 (TFBertForSequ  (loss=None, logits=(None,    78         'attention_mask[0][0]']      \n",
            " enceClassification)         2),                                                                  \n",
            "                              hidden_states=((None, 30,                                           \n",
            "                              768),                                                               \n",
            "                              (None, 30, 768),                                                    \n",
            "                              (None, 30, 768),                                                    \n",
            "                              (None, 30, 768),                                                    \n",
            "                              (None, 30, 768),                                                    \n",
            "                              (None, 30, 768),                                                    \n",
            "                              (None, 30, 768),                                                    \n",
            "                              (None, 30, 768),                                                    \n",
            "                              (None, 30, 768),                                                    \n",
            "                              (None, 30, 768),                                                    \n",
            "                              (None, 30, 768),                                                    \n",
            "                              (None, 30, 768),                                                    \n",
            "                              (None, 30, 768)),                                                   \n",
            "                              attentions=None)                                                    \n",
            "                                                                                                  \n",
            " tf.__operators__.getitem_4  (None, 768)                  0         ['tf_bert_for_sequence_classif\n",
            "  (SlicingOpLambda)                                                 ication_5[0][12]']            \n",
            "                                                                                                  \n",
            " batch_normalization_2 (Bat  (None, 768)                  3072      ['tf.__operators__.getitem_4[0\n",
            " chNormalization)                                                   ][0]']                        \n",
            "                                                                                                  \n",
            " dense_6 (Dense)             (None, 128)                  98432     ['batch_normalization_2[0][0]'\n",
            "                                                                    ]                             \n",
            "                                                                                                  \n",
            " dropout_267 (Dropout)       (None, 128)                  0         ['dense_6[0][0]']             \n",
            "                                                                                                  \n",
            " dense_7 (Dense)             (None, 32)                   4128      ['dropout_267[0][0]']         \n",
            "                                                                                                  \n",
            " dense_8 (Dense)             (None, 1)                    33        ['dense_7[0][0]']             \n",
            "                                                                                                  \n",
            "==================================================================================================\n",
            "Total params: 109589443 (418.05 MB)\n",
            "Trainable params: 109587907 (418.04 MB)\n",
            "Non-trainable params: 1536 (6.00 KB)\n",
            "__________________________________________________________________________________________________\n"
          ]
        }
      ]
    },
    {
      "cell_type": "code",
      "metadata": {
        "id": "QQn5mn5rOQLE",
        "colab": {
          "base_uri": "https://localhost:8080/"
        },
        "outputId": "5fb225e4-597c-4d31-d2b7-15c7a5b0dd18"
      },
      "source": [
        "# Display a summary of the model architecture\n",
        "# This prints the model's layers, their output shapes, and the number of parameters for each layer\n",
        "model.summary()"
      ],
      "execution_count": 111,
      "outputs": [
        {
          "output_type": "stream",
          "name": "stdout",
          "text": [
            "Model: \"model_2\"\n",
            "__________________________________________________________________________________________________\n",
            " Layer (type)                Output Shape                 Param #   Connected to                  \n",
            "==================================================================================================\n",
            " input_ids (InputLayer)      [(None, 30)]                 0         []                            \n",
            "                                                                                                  \n",
            " attention_mask (InputLayer  [(None, 30)]                 0         []                            \n",
            " )                                                                                                \n",
            "                                                                                                  \n",
            " tf_bert_for_sequence_class  TFSequenceClassifierOutput   1094837   ['input_ids[0][0]',           \n",
            " ification_5 (TFBertForSequ  (loss=None, logits=(None,    78         'attention_mask[0][0]']      \n",
            " enceClassification)         2),                                                                  \n",
            "                              hidden_states=((None, 30,                                           \n",
            "                              768),                                                               \n",
            "                              (None, 30, 768),                                                    \n",
            "                              (None, 30, 768),                                                    \n",
            "                              (None, 30, 768),                                                    \n",
            "                              (None, 30, 768),                                                    \n",
            "                              (None, 30, 768),                                                    \n",
            "                              (None, 30, 768),                                                    \n",
            "                              (None, 30, 768),                                                    \n",
            "                              (None, 30, 768),                                                    \n",
            "                              (None, 30, 768),                                                    \n",
            "                              (None, 30, 768),                                                    \n",
            "                              (None, 30, 768),                                                    \n",
            "                              (None, 30, 768)),                                                   \n",
            "                              attentions=None)                                                    \n",
            "                                                                                                  \n",
            " tf.__operators__.getitem_4  (None, 768)                  0         ['tf_bert_for_sequence_classif\n",
            "  (SlicingOpLambda)                                                 ication_5[0][12]']            \n",
            "                                                                                                  \n",
            " batch_normalization_2 (Bat  (None, 768)                  3072      ['tf.__operators__.getitem_4[0\n",
            " chNormalization)                                                   ][0]']                        \n",
            "                                                                                                  \n",
            " dense_6 (Dense)             (None, 128)                  98432     ['batch_normalization_2[0][0]'\n",
            "                                                                    ]                             \n",
            "                                                                                                  \n",
            " dropout_267 (Dropout)       (None, 128)                  0         ['dense_6[0][0]']             \n",
            "                                                                                                  \n",
            " dense_7 (Dense)             (None, 32)                   4128      ['dropout_267[0][0]']         \n",
            "                                                                                                  \n",
            " dense_8 (Dense)             (None, 1)                    33        ['dense_7[0][0]']             \n",
            "                                                                                                  \n",
            "==================================================================================================\n",
            "Total params: 109589443 (418.05 MB)\n",
            "Trainable params: 109587907 (418.04 MB)\n",
            "Non-trainable params: 1536 (6.00 KB)\n",
            "__________________________________________________________________________________________________\n"
          ]
        }
      ]
    },
    {
      "cell_type": "code",
      "metadata": {
        "id": "d2wjfg61OiU0",
        "colab": {
          "base_uri": "https://localhost:8080/"
        },
        "outputId": "e126f25f-edf0-4093-d8fb-2ed8d10e5632"
      },
      "source": [
        "# Freeze the pre-trained BERT layer to prevent it from being updated during training\n",
        "# This makes the BERT layer non-trainable, so only the additional layers (Dense, Dropout, etc.) will be trained\n",
        "model.layers[2].trainable = False  # Freeze the third layer (which corresponds to the BERT layer)\n",
        "\n",
        "# Display the updated model summary to verify the layer freezing\n",
        "# This helps ensure that the BERT layer is frozen and the other layers are trainable\n",
        "model.summary()\n"
      ],
      "execution_count": 112,
      "outputs": [
        {
          "output_type": "stream",
          "name": "stdout",
          "text": [
            "Model: \"model_2\"\n",
            "__________________________________________________________________________________________________\n",
            " Layer (type)                Output Shape                 Param #   Connected to                  \n",
            "==================================================================================================\n",
            " input_ids (InputLayer)      [(None, 30)]                 0         []                            \n",
            "                                                                                                  \n",
            " attention_mask (InputLayer  [(None, 30)]                 0         []                            \n",
            " )                                                                                                \n",
            "                                                                                                  \n",
            " tf_bert_for_sequence_class  TFSequenceClassifierOutput   1094837   ['input_ids[0][0]',           \n",
            " ification_5 (TFBertForSequ  (loss=None, logits=(None,    78         'attention_mask[0][0]']      \n",
            " enceClassification)         2),                                                                  \n",
            "                              hidden_states=((None, 30,                                           \n",
            "                              768),                                                               \n",
            "                              (None, 30, 768),                                                    \n",
            "                              (None, 30, 768),                                                    \n",
            "                              (None, 30, 768),                                                    \n",
            "                              (None, 30, 768),                                                    \n",
            "                              (None, 30, 768),                                                    \n",
            "                              (None, 30, 768),                                                    \n",
            "                              (None, 30, 768),                                                    \n",
            "                              (None, 30, 768),                                                    \n",
            "                              (None, 30, 768),                                                    \n",
            "                              (None, 30, 768),                                                    \n",
            "                              (None, 30, 768),                                                    \n",
            "                              (None, 30, 768)),                                                   \n",
            "                              attentions=None)                                                    \n",
            "                                                                                                  \n",
            " tf.__operators__.getitem_4  (None, 768)                  0         ['tf_bert_for_sequence_classif\n",
            "  (SlicingOpLambda)                                                 ication_5[0][12]']            \n",
            "                                                                                                  \n",
            " batch_normalization_2 (Bat  (None, 768)                  3072      ['tf.__operators__.getitem_4[0\n",
            " chNormalization)                                                   ][0]']                        \n",
            "                                                                                                  \n",
            " dense_6 (Dense)             (None, 128)                  98432     ['batch_normalization_2[0][0]'\n",
            "                                                                    ]                             \n",
            "                                                                                                  \n",
            " dropout_267 (Dropout)       (None, 128)                  0         ['dense_6[0][0]']             \n",
            "                                                                                                  \n",
            " dense_7 (Dense)             (None, 32)                   4128      ['dropout_267[0][0]']         \n",
            "                                                                                                  \n",
            " dense_8 (Dense)             (None, 1)                    33        ['dense_7[0][0]']             \n",
            "                                                                                                  \n",
            "==================================================================================================\n",
            "Total params: 109589443 (418.05 MB)\n",
            "Trainable params: 104129 (406.75 KB)\n",
            "Non-trainable params: 109485314 (417.65 MB)\n",
            "__________________________________________________________________________________________________\n"
          ]
        }
      ]
    },
    {
      "cell_type": "markdown",
      "metadata": {
        "id": "nZ9tUK58kUbU"
      },
      "source": [
        "### **Compile model**"
      ]
    },
    {
      "cell_type": "code",
      "metadata": {
        "id": "QlKXGm_tkQiX"
      },
      "source": [
        "# Import the necessary libraries\n",
        "import tensorflow as tf\n",
        "from transformers import AdamWeightDecay\n",
        "\n",
        "# Set the learning rate for the optimizer (this line can be used if needed)\n",
        "# learning_rate = 1e-3  # Example learning rate, which can be adjusted depending on the model performance\n",
        "\n",
        "# Define the Adam optimizer with a learning rate of 5e-4\n",
        "# Adam is a widely used optimization algorithm known for its efficiency in deep learning tasks\n",
        "optimizer = tf.keras.optimizers.Adam(learning_rate=5e-4)  # Set learning rate to 5e-4\n",
        "\n",
        "# Alternatively, you can use the AdamWeightDecay optimizer from Hugging Face transformers library\n",
        "# AdamWeightDecay applies weight decay regularization, useful when fine-tuning transformer models.\n",
        "# Here, we are using the same learning rate for AdamWeightDecay.\n",
        "optimizer = AdamWeightDecay(learning_rate=5e-4)  # Uncomment to use AdamWeightDecay\n",
        "\n",
        "# Define the loss function: Binary Crossentropy\n",
        "# This is appropriate for binary classification tasks (e.g., sentiment classification)\n",
        "loss = tf.keras.losses.BinaryCrossentropy()\n",
        "\n",
        "# Define the metric: Binary Accuracy\n",
        "# This metric evaluates the model's performance by calculating the percentage of correct predictions.\n",
        "metric = tf.keras.metrics.BinaryAccuracy('accuracy')\n",
        "\n",
        "# Compile the model by specifying the optimizer, loss function, and evaluation metric.\n",
        "# This step prepares the model for training by setting up the training process.\n",
        "model.compile(optimizer=optimizer, loss=loss, metrics=[metric])\n"
      ],
      "execution_count": 113,
      "outputs": []
    },
    {
      "cell_type": "markdown",
      "source": [
        "### **Train the model with specified training and validation datasets**"
      ],
      "metadata": {
        "id": "qJmiYnqZV9zW"
      }
    },
    {
      "cell_type": "code",
      "metadata": {
        "id": "XXaY3lgRSY0Y",
        "colab": {
          "base_uri": "https://localhost:8080/"
        },
        "outputId": "41ce7623-35f6-4140-deca-edf24bf1b383"
      },
      "source": [
        "# Train the model with specified training and validation datasets\n",
        "\n",
        "# Define a list of callbacks to improve training performance and avoid overfitting:\n",
        "# 1. ReduceLROnPlateau: Reduces the learning rate when the validation loss plateaus.\n",
        "#    - patience=2: Wait for 2 epochs without improvement before reducing the learning rate.\n",
        "#    - factor=0.1: Reduce the learning rate by a factor of 0.1.\n",
        "#    - min_delta=0.001: Minimum change in validation loss to be considered an improvement.\n",
        "#    - monitor='val_loss': Monitor the validation loss to decide when to reduce the learning rate.\n",
        "callbacks = [tf.keras.callbacks.ReduceLROnPlateau(patience=2, factor=0.1, min_delta=0.001, monitor='val_loss'),\n",
        "\n",
        "             # EarlyStopping: Stops training if the validation loss does not improve for a set number of epochs.\n",
        "             #    - patience=5: Wait for 5 epochs without improvement before stopping.\n",
        "             #    - min_delta=0.001: Minimum change in validation loss to be considered an improvement.\n",
        "             #    - monitor='val_loss': Monitor the validation loss to decide when to stop training.\n",
        "             tf.keras.callbacks.EarlyStopping(patience=5, min_delta=0.001, monitor='val_loss')]\n",
        "\n",
        "# Train the model using the training and validation datasets:\n",
        "# - train_ds: The training dataset.\n",
        "# - validation_data: The validation dataset to evaluate the model during training.\n",
        "# - epochs: The number of training epochs (3 in this case).\n",
        "# - callbacks: The list of callbacks to use during training.\n",
        "history = model.fit(\n",
        "    train_ds,                  # Training dataset\n",
        "    validation_data=val_ds,    # Validation dataset\n",
        "    epochs=5,                  # Train the model for 3 epochs\n",
        "    callbacks=callbacks        # Use callbacks to monitor and optimize training\n",
        ")"
      ],
      "execution_count": 114,
      "outputs": [
        {
          "output_type": "stream",
          "name": "stdout",
          "text": [
            "Epoch 1/5\n",
            "95/95 [==============================] - 34s 211ms/step - loss: 0.5299 - accuracy: 0.7419 - val_loss: 0.5434 - val_accuracy: 0.7873 - lr: 5.0000e-04\n",
            "Epoch 2/5\n",
            "95/95 [==============================] - 17s 178ms/step - loss: 0.4688 - accuracy: 0.7878 - val_loss: 0.4629 - val_accuracy: 0.8134 - lr: 5.0000e-04\n",
            "Epoch 3/5\n",
            "95/95 [==============================] - 17s 174ms/step - loss: 0.4553 - accuracy: 0.7965 - val_loss: 0.4225 - val_accuracy: 0.8213 - lr: 5.0000e-04\n",
            "Epoch 4/5\n",
            "95/95 [==============================] - 17s 174ms/step - loss: 0.4261 - accuracy: 0.8130 - val_loss: 0.3687 - val_accuracy: 0.8454 - lr: 5.0000e-04\n",
            "Epoch 5/5\n",
            "95/95 [==============================] - 16s 173ms/step - loss: 0.4157 - accuracy: 0.8148 - val_loss: 0.3588 - val_accuracy: 0.8461 - lr: 5.0000e-04\n"
          ]
        }
      ]
    },
    {
      "cell_type": "code",
      "metadata": {
        "id": "CZ41vAIGUHUT",
        "colab": {
          "base_uri": "https://localhost:8080/",
          "height": 525
        },
        "outputId": "52dd726a-2f8d-4eb3-e163-7c952de84420"
      },
      "source": [
        "# Plot the performance curves for accuracy and loss during training and validation\n",
        "\n",
        "# Extract the epoch numbers from the training history\n",
        "epochs = history.epoch\n",
        "\n",
        "# Set the figure size for the plots\n",
        "plt.figure(figsize=(15, 6))\n",
        "\n",
        "# Subplot 1: Accuracy Curve\n",
        "plt.subplot(1, 2, 1)  # Create the first subplot in a 1-row, 2-column layout\n",
        "# Plot the training accuracy from the history object\n",
        "plt.plot(epochs, history.history['accuracy'], label=\"Train\")\n",
        "# Plot the validation accuracy from the history object\n",
        "plt.plot(epochs, history.history['val_accuracy'], label=\"Val\")\n",
        "# Add a legend to differentiate between training and validation accuracy\n",
        "plt.legend()\n",
        "# Add a title to the accuracy plot\n",
        "plt.title(\"Accuracy\")\n",
        "\n",
        "# Subplot 2: Loss Curve\n",
        "plt.subplot(1, 2, 2)  # Create the second subplot in the same layout\n",
        "# Plot the training loss from the history object\n",
        "plt.plot(epochs, history.history['loss'], label=\"Train\")\n",
        "# Plot the validation loss from the history object\n",
        "plt.plot(epochs, history.history['val_loss'], label=\"Val\")\n",
        "# Add a legend to differentiate between training and validation loss\n",
        "plt.legend()\n",
        "# Add a title to the loss plot\n",
        "plt.title(\"Loss\")\n",
        "\n",
        "# Display the plots\n",
        "plt.show()"
      ],
      "execution_count": 115,
      "outputs": [
        {
          "output_type": "display_data",
          "data": {
            "text/plain": [
              "<Figure size 1500x600 with 2 Axes>"
            ],
            "image/png": "[encoded data removed]"
          },
          "metadata": {}
        }
      ]
    },
    {
      "cell_type": "code",
      "metadata": {
        "id": "Fl-wIq13UK-Z",
        "colab": {
          "base_uri": "https://localhost:8080/"
        },
        "outputId": "573bde35-5127-4695-ab6f-828a7c9ec9b9"
      },
      "source": [
        "# Evaluate the model on the validation dataset\n",
        "\n",
        "# The `model.evaluate` method is used to evaluate the model's performance on a given dataset.\n",
        "# It computes the loss and any specified metrics (e.g., accuracy) on the dataset.\n",
        "\n",
        "# Input:\n",
        "# - `val_ds`: The validation dataset to evaluate the model's performance on.\n",
        "\n",
        "# Output:\n",
        "# - Prints the loss and metrics (e.g., accuracy) on the validation dataset.\n",
        "# - Returns the evaluation results as a list (e.g., [loss, accuracy]).\n",
        "\n",
        "model.evaluate(val_ds)"
      ],
      "execution_count": 116,
      "outputs": [
        {
          "output_type": "stream",
          "name": "stdout",
          "text": [
            "24/24 [==============================] - 3s 138ms/step - loss: 0.3626 - accuracy: 0.8434\n"
          ]
        },
        {
          "output_type": "execute_result",
          "data": {
            "text/plain": [
              "[0.36262163519859314, 0.8434442281723022]"
            ]
          },
          "metadata": {},
          "execution_count": 116
        }
      ]
    },
    {
      "cell_type": "code",
      "source": [
        "import tensorflow as tf\n",
        "\n",
        "# Define sentiment labels (binary classification: 0 = Negative, 1 = Positive)\n",
        "sentiment_labels = {0: \"Negative\", 1: \"Positive\"}\n",
        "\n",
        "# Step 2: Define the prediction pipeline function\n",
        "def predict_sentiment(input_text):\n",
        "    # Encoding the input text using the tokenizer\n",
        "    encoded_input = tokenizer(input_text,\n",
        "                               add_special_tokens=True,  # Add [CLS] and [SEP] tokens\n",
        "                               padding='max_length',     # Pad sequences to max_length\n",
        "                               truncation=True,          # Truncate sequences longer than max_length\n",
        "                               max_length=30,            # Set the max length to 30 tokens\n",
        "                               return_token_type_ids=False,\n",
        "                               return_tensors='tf')      # Return TensorFlow tensors\n",
        "\n",
        "    # Creating a TensorFlow dataset from the encoded input\n",
        "    input_dataset = tf.data.Dataset.from_tensor_slices(dict(encoded_input))\n",
        "\n",
        "    # Batch the data for prediction (batch size 1 for a single input)\n",
        "    input_ds = input_dataset.batch(1)\n",
        "\n",
        "    # Make predictions with the model\n",
        "    predictions = model.predict(input_ds)\n",
        "\n",
        "    # Get the predicted probability for the positive class (index 1)\n",
        "    predicted_prob = predictions[0][0]  # Since we only have one output, we get the first value\n",
        "\n",
        "    # Apply a threshold of 0.5 to determine sentiment: if > 0.5, classify as Positive\n",
        "    predicted_class = 1 if predicted_prob > 0.5 else 0\n",
        "\n",
        "    # Map the predicted class index to the sentiment label\n",
        "    sentiment = sentiment_labels[predicted_class]\n",
        "\n",
        "    # Return the sentiment and the predicted probability (logits)\n",
        "    return sentiment, predicted_prob\n",
        "\n",
        "# Step 3: Example input text for sentiment analysis\n",
        "input_text = \" This is the worst thing I've ever bought\"  # Example text input\n",
        "\n",
        "# Get the predicted sentiment and raw predictions for the input text\n",
        "predicted_sentiment, predicted_prob = predict_sentiment(input_text)\n",
        "\n",
        "# Output the sentiment prediction result\n",
        "print(f\"Predicted sentimen is {predicted_sentiment}\")"
      ],
      "metadata": {
        "id": "ZEIxIKsNkIL4",
        "colab": {
          "base_uri": "https://localhost:8080/"
        },
        "outputId": "4a0fecf8-09c4-4db8-8f61-9e645fdcf814"
      },
      "execution_count": 127,
      "outputs": [
        {
          "output_type": "stream",
          "name": "stdout",
          "text": [
            "1/1 [==============================] - 0s 51ms/step\n",
            "Predicted sentimen is Negative\n"
          ]
        }
      ]
    }
  ]
}